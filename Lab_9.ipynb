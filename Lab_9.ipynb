{
 "cells": [
  {
   "cell_type": "markdown",
   "metadata": {},
   "source": [
    "# Лабораторная работа №9.\n",
    "# Тема: Анонимные функции: сигнатура функций (delegate), лямбда-выражение (=>), событие (event)\n",
    "\n",
    "\n",
    "## Дано:\n",
    "\n",
    "Граф в виде древовидной иерархической структуры. С отмеченной пунктирной связью.\n",
    "\n",
    "![](media/var.png)\n",
    "\n",
    "## Надо:\n",
    "Реализовать анонимные выражения, создание их с помощью конструктора, с помощью подстановки, выполнение множества функций одним методом.\n",
    "\n",
    "## Как делать?\n",
    "\n",
    "![](media/lab9.png)\n",
    "\n",
    "**Delegate** - указатель на методы, у которых совпадает сигнатура. \\\n",
    "**Сигнатура** - характеристика-описание функции, то, что однозначно идентифицирует конкретный метод. Содержит в себе имя, тип и кол-во принимаемых параметров и возвращаемое значение, если оно есть. \\\n",
    "**Событие** - сигнализирует системе о том, что произошло определенное действие. \\\n",
    "**Обработчик события** – метод, который выполняет некоторые действия в программе, в случае если событие произошло(сгенерировалось).\n"
   ]
  },
  {
   "cell_type": "markdown",
   "metadata": {},
   "source": [
    "# Текст программы. Делегаты"
   ]
  },
  {
   "cell_type": "markdown",
   "metadata": {},
   "source": [
    "## Объявляем класс сигнатуры. Мн-во функций, к-ые имеют одинаковую сигнатуры."
   ]
  },
  {
   "cell_type": "code",
   "execution_count": 87,
   "metadata": {
    "dotnet_interactive": {
     "language": "csharp"
    },
    "vscode": {
     "languageId": "dotnet-interactive.csharp"
    }
   },
   "outputs": [],
   "source": [
    "public delegate int A(int x, int y);\n",
    "public delegate void B();"
   ]
  },
  {
   "cell_type": "code",
   "execution_count": 88,
   "metadata": {
    "dotnet_interactive": {
     "language": "csharp"
    },
    "vscode": {
     "languageId": "dotnet-interactive.csharp"
    }
   },
   "outputs": [],
   "source": [
    "B b = delegate() { Console.WriteLine(\"B b = delegate()\"); };"
   ]
  },
  {
   "cell_type": "code",
   "execution_count": 89,
   "metadata": {
    "dotnet_interactive": {
     "language": "csharp"
    },
    "vscode": {
     "languageId": "dotnet-interactive.csharp"
    }
   },
   "outputs": [
    {
     "name": "stdout",
     "output_type": "stream",
     "text": [
      "B b = delegate()\r\n"
     ]
    }
   ],
   "source": [
    "b()"
   ]
  },
  {
   "cell_type": "markdown",
   "metadata": {
    "dotnet_interactive": {
     "language": "csharp"
    }
   },
   "source": [
    "## Создание с помощью конструктора"
   ]
  },
  {
   "cell_type": "code",
   "execution_count": 90,
   "metadata": {
    "dotnet_interactive": {
     "language": "csharp"
    },
    "vscode": {
     "languageId": "dotnet-interactive.csharp"
    }
   },
   "outputs": [],
   "source": [
    "int Add(int x, int y) { Console.WriteLine(\"Add\"); return x + y; }"
   ]
  },
  {
   "cell_type": "code",
   "execution_count": 91,
   "metadata": {
    "dotnet_interactive": {
     "language": "csharp"
    },
    "vscode": {
     "languageId": "dotnet-interactive.csharp"
    }
   },
   "outputs": [
    {
     "name": "stdout",
     "output_type": "stream",
     "text": [
      "A a1 = new A(add)\r\n",
      "Add\r\n",
      "Use method a1(2, 3): 5\r\n"
     ]
    }
   ],
   "source": [
    "Console.WriteLine(\"A a1 = new A(add)\");\n",
    "A a1 = new A(Add);\n",
    "Console.WriteLine($\"Use method a1(2, 3): {a1(2,3)}\")"
   ]
  },
  {
   "cell_type": "code",
   "execution_count": 92,
   "metadata": {
    "dotnet_interactive": {
     "language": "csharp"
    },
    "vscode": {
     "languageId": "dotnet-interactive.csharp"
    }
   },
   "outputs": [
    {
     "name": "stdout",
     "output_type": "stream",
     "text": [
      "Use method a2(2, 3): 5\r\n"
     ]
    }
   ],
   "source": [
    "A a2 = (x1, x2) => x1 + x2;\n",
    "Console.WriteLine($\"Use method a2(2, 3): {a2(2,3)}\")"
   ]
  },
  {
   "cell_type": "markdown",
   "metadata": {
    "dotnet_interactive": {
     "language": "csharp"
    }
   },
   "source": [
    "## С помощью подстановки:"
   ]
  },
  {
   "cell_type": "code",
   "execution_count": 93,
   "metadata": {
    "dotnet_interactive": {
     "language": "csharp"
    },
    "vscode": {
     "languageId": "dotnet-interactive.csharp"
    }
   },
   "outputs": [
    {
     "name": "stdout",
     "output_type": "stream",
     "text": [
      "Add\r\n",
      "Use method a(2, 3): 5\r\n"
     ]
    }
   ],
   "source": [
    "A a = null;\n",
    "a = Add;\n",
    "Console.WriteLine($\"Use method a(2, 3): {a(2,3)}\")"
   ]
  },
  {
   "cell_type": "code",
   "execution_count": 94,
   "metadata": {
    "dotnet_interactive": {
     "language": "csharp"
    },
    "vscode": {
     "languageId": "dotnet-interactive.csharp"
    }
   },
   "outputs": [
    {
     "name": "stdout",
     "output_type": "stream",
     "text": [
      "Add\r\n",
      "Use method Add(2, 3): 5\r\n"
     ]
    }
   ],
   "source": [
    "Console.WriteLine($\"Use method Add(2, 3): {Add(2,3)}\")"
   ]
  },
  {
   "cell_type": "code",
   "execution_count": 95,
   "metadata": {
    "dotnet_interactive": {
     "language": "csharp"
    },
    "vscode": {
     "languageId": "dotnet-interactive.csharp"
    }
   },
   "outputs": [
    {
     "name": "stdout",
     "output_type": "stream",
     "text": [
      "Use x % y b(3, 2): 1\r\n"
     ]
    }
   ],
   "source": [
    "A b = delegate (int x, int y) { return x % y; };\n",
    "Console.WriteLine($\"Use x % y b(3, 2): {b(3,2)}\");"
   ]
  },
  {
   "cell_type": "code",
   "execution_count": 96,
   "metadata": {
    "dotnet_interactive": {
     "language": "csharp"
    },
    "vscode": {
     "languageId": "dotnet-interactive.csharp"
    }
   },
   "outputs": [
    {
     "name": "stdout",
     "output_type": "stream",
     "text": [
      "Use x * y b(3, 2): 6\r\n"
     ]
    }
   ],
   "source": [
    "A b = delegate (int x, int y) { return x * y; };\n",
    "Console.WriteLine($\"Use x * y b(3, 2): {b(3,2)}\");"
   ]
  },
  {
   "cell_type": "markdown",
   "metadata": {
    "dotnet_interactive": {
     "language": "csharp"
    }
   },
   "source": [
    "## Демонстрирование возможности декремента/инкремента"
   ]
  },
  {
   "cell_type": "code",
   "execution_count": 97,
   "metadata": {
    "dotnet_interactive": {
     "language": "csharp"
    },
    "vscode": {
     "languageId": "dotnet-interactive.csharp"
    }
   },
   "outputs": [],
   "source": [
    "public void v1() { Console.WriteLine(\"V1\"); }\n",
    "public void v2() { Console.WriteLine(\"V2\"); }"
   ]
  },
  {
   "cell_type": "code",
   "execution_count": 98,
   "metadata": {
    "dotnet_interactive": {
     "language": "csharp"
    },
    "vscode": {
     "languageId": "dotnet-interactive.csharp"
    }
   },
   "outputs": [
    {
     "name": "stdout",
     "output_type": "stream",
     "text": [
      "V1\r\n",
      "Use increment. Methods v1 & v2\r\n",
      "V1\r\n",
      "V2\r\n",
      "Use decrement. Del v1\r\n",
      "V2\r\n"
     ]
    }
   ],
   "source": [
    "B e1 = v1;\n",
    "e1();\n",
    "e1 += v2;\n",
    "Console.WriteLine(\"Use increment. Methods v1 & v2\");\n",
    "e1();\n",
    "Console.WriteLine(\"Use decrement. Del v1\");\n",
    "e1 -= v1;\n",
    "e1();"
   ]
  },
  {
   "cell_type": "code",
   "execution_count": 99,
   "metadata": {
    "dotnet_interactive": {
     "language": "csharp"
    },
    "vscode": {
     "languageId": "dotnet-interactive.csharp"
    }
   },
   "outputs": [],
   "source": [
    "int Mult(int x, int y) { Console.WriteLine(\"Mult\"); return x * y; }"
   ]
  },
  {
   "cell_type": "code",
   "execution_count": 100,
   "metadata": {
    "dotnet_interactive": {
     "language": "csharp"
    },
    "vscode": {
     "languageId": "dotnet-interactive.csharp"
    }
   },
   "outputs": [
    {
     "name": "stdout",
     "output_type": "stream",
     "text": [
      "Add\r\n",
      "5\r\n",
      "Add\r\n",
      "Mult\r\n",
      "Use increment. Methods Add & Mult: 6\r\n",
      "Mult\r\n",
      "Use decrement. Del Add: 6\r\n"
     ]
    }
   ],
   "source": [
    "A v = Add;\n",
    "Console.WriteLine(v(2, 3));\n",
    "v += Mult;\n",
    "Console.WriteLine($\"Use increment. Methods Add & Mult: {v(2, 3)}\");\n",
    "v -= Add;\n",
    "Console.WriteLine($\"Use decrement. Del Add: {v(2, 3)}\");\n"
   ]
  },
  {
   "cell_type": "code",
   "execution_count": 101,
   "metadata": {
    "dotnet_interactive": {
     "language": "csharp"
    },
    "vscode": {
     "languageId": "dotnet-interactive.csharp"
    }
   },
   "outputs": [],
   "source": [
    "public void Multicast(A a, int x, int y)\n",
    "{\n",
    "    int result = a(x, y);\n",
    "    Console.WriteLine(\"Multicast = {0}\", result);\n",
    "}"
   ]
  },
  {
   "cell_type": "code",
   "execution_count": 102,
   "metadata": {
    "dotnet_interactive": {
     "language": "csharp"
    },
    "vscode": {
     "languageId": "dotnet-interactive.csharp"
    }
   },
   "outputs": [
    {
     "name": "stdout",
     "output_type": "stream",
     "text": [
      "Add\r\n",
      "Multicast = 5\r\n"
     ]
    }
   ],
   "source": [
    "A a = new A(Add);\n",
    "Multicast(a, 2, 3);"
   ]
  },
  {
   "cell_type": "markdown",
   "metadata": {},
   "source": [
    "Вывод: Для определения делегата используется ключевое слово delegate, после которого идет сигнатура. Для использования делегата объявляется объект этого делегата. Объекту данного класса сигнатур можно присвоить метод со сходной сигнатурой. Для объектов класса сигнатур возможна операция декремента/инкремента. Также можно использовать анонимные делегаты путём объявления объекта класса сигнатур и присваивания ему анонимного метода со сходной у делегата сигнатурой. Делегаты можно передавать в качестве аргумента методу, что довольно удобно. Использование делегатов позволяет добиться более адекватного моделирования и повторного использования кода."
   ]
  },
  {
   "cell_type": "markdown",
   "metadata": {
    "dotnet_interactive": {
     "language": "csharp"
    }
   },
   "source": [
    "# Лямбда-выражения "
   ]
  },
  {
   "cell_type": "code",
   "execution_count": 103,
   "metadata": {
    "dotnet_interactive": {
     "language": "csharp"
    },
    "vscode": {
     "languageId": "dotnet-interactive.csharp"
    }
   },
   "outputs": [],
   "source": [
    "delegate int Lambda(int x, int y);\n",
    "delegate void Lambda_OP();"
   ]
  },
  {
   "cell_type": "code",
   "execution_count": 104,
   "metadata": {
    "dotnet_interactive": {
     "language": "csharp"
    },
    "vscode": {
     "languageId": "dotnet-interactive.csharp"
    }
   },
   "outputs": [
    {
     "name": "stdout",
     "output_type": "stream",
     "text": [
      "lambda(54, 52) =  2\r\n",
      "Labda_OP has been used (!)\r\n"
     ]
    }
   ],
   "source": [
    "Lambda l = (x, y) => x - y;\n",
    "Console.WriteLine(\"lambda(54, 52) =  {0}\", l(54, 52));\n",
    "Lambda_OP lop = () => Console.WriteLine(\"Labda_OP has been used (!)\");\n",
    "lop();"
   ]
  },
  {
   "cell_type": "code",
   "execution_count": 105,
   "metadata": {
    "dotnet_interactive": {
     "language": "csharp"
    },
    "vscode": {
     "languageId": "dotnet-interactive.csharp"
    }
   },
   "outputs": [
    {
     "name": "stdout",
     "output_type": "stream",
     "text": [
      "25\r\n"
     ]
    }
   ],
   "source": [
    "Func<int, int> square = (s) => s*s;\n",
    "Console.WriteLine($\"{square(5)}\");"
   ]
  },
  {
   "cell_type": "code",
   "execution_count": 106,
   "metadata": {
    "dotnet_interactive": {
     "language": "csharp"
    },
    "vscode": {
     "languageId": "dotnet-interactive.csharp"
    }
   },
   "outputs": [
    {
     "name": "stdout",
     "output_type": "stream",
     "text": [
      "num = 4\r\n"
     ]
    }
   ],
   "source": [
    "List<int> list = new List<int>() { 2, 1, 7, 4, 2, 0, 3, 1 };\n",
    "int num = list.Find(x => x == 4);\n",
    "Console.WriteLine($\"num = {num}\");"
   ]
  },
  {
   "cell_type": "code",
   "execution_count": 107,
   "metadata": {
    "dotnet_interactive": {
     "language": "csharp"
    },
    "vscode": {
     "languageId": "dotnet-interactive.csharp"
    }
   },
   "outputs": [
    {
     "name": "stdout",
     "output_type": "stream",
     "text": [
      "x < 4\r\n",
      "2\r\n",
      "1\r\n",
      "2\r\n",
      "0\r\n",
      "3\r\n",
      "1\r\n"
     ]
    }
   ],
   "source": [
    "List<int> list2 = list.FindAll(x => x < 4);\n",
    "Console.WriteLine(\"x < 4\");\n",
    "foreach (var item in list2) { Console.WriteLine(item);}"
   ]
  },
  {
   "cell_type": "markdown",
   "metadata": {},
   "source": [
    "Вывод: Лямбда-выражения представляют упрощенную запись анонимных методов. Лямбда-выражения позволяют создать емкие лаконичные методы, которые могут возвращать некоторое значение и которые можно передать в качестве параметров в другие методы. Ламбда-выражения имеют следующий синтаксис: слева определяется список параметров, в середине лямбда-оператор =>, а справа блок выражений, использующий эти параметры: (список_параметров) => выражение. Как и делегаты, лямбда-выражения можно передавать в качестве аргументов методу для тех параметров, которые представляют делегат, что довольно удобно. Как и делегаты, лямбда-выражения позволяют добиться повторного использования кода и адекватного моделирования."
   ]
  },
  {
   "cell_type": "markdown",
   "metadata": {
    "dotnet_interactive": {
     "language": "csharp"
    }
   },
   "source": [
    "# События"
   ]
  },
  {
   "cell_type": "code",
   "execution_count": 108,
   "metadata": {
    "dotnet_interactive": {
     "language": "csharp"
    },
    "vscode": {
     "languageId": "dotnet-interactive.csharp"
    }
   },
   "outputs": [],
   "source": [
    "public class Message : EventArgs\n",
    "{\n",
    "    public string mess { set; get; } //атрибут доступа для сообщений\n",
    "\n",
    "    public Message(string message)\n",
    "    {\n",
    "        mess = message;\n",
    "    }\n",
    "}"
   ]
  },
  {
   "cell_type": "code",
   "execution_count": 109,
   "metadata": {
    "dotnet_interactive": {
     "language": "csharp"
    },
    "vscode": {
     "languageId": "dotnet-interactive.csharp"
    }
   },
   "outputs": [],
   "source": [
    "public class Publisher\n",
    "{\n",
    "    public Publisher() { }\n",
    "\n",
    "    public delegate void PublisherEventHanler(Message message); // обработчик событий\n",
    "    public delegate void EventHandler(Object sender, EventArgs args); //\n",
    "\n",
    "    public event PublisherEventHanler Changed;\n",
    "\n",
    "    public void EventForPublisher(Message message)\n",
    "    {\n",
    "        Console.WriteLine(\"Event for all subscribers {0}\", message.mess);\n",
    "        Changed(message);\n",
    "    }\n",
    "\n",
    "    public void Ewraping(PublisherEventHanler Change)\n",
    "    {\n",
    "        Changed(new Message(\"Ewraping\"));\n",
    "    }\n",
    "}"
   ]
  },
  {
   "cell_type": "code",
   "execution_count": 110,
   "metadata": {
    "dotnet_interactive": {
     "language": "csharp"
    },
    "vscode": {
     "languageId": "dotnet-interactive.csharp"
    }
   },
   "outputs": [],
   "source": [
    " public class Subscriber\n",
    "{\n",
    "    int Code { set; get; }\n",
    "\n",
    "    public Subscriber(int code)\n",
    "    {\n",
    "        Code = code;\n",
    "    }\n",
    "\n",
    "    public void subscribe(Message message) //+= операция для подписки\n",
    "    {\n",
    "        Console.WriteLine(\"Subscriber {0} {1}\", this.Code, message.mess);\n",
    "    }\n",
    "}\n"
   ]
  },
  {
   "cell_type": "code",
   "execution_count": 111,
   "metadata": {
    "dotnet_interactive": {
     "language": "csharp"
    },
    "vscode": {
     "languageId": "dotnet-interactive.csharp"
    }
   },
   "outputs": [],
   "source": [
    "Publisher publisher = new Publisher();\n",
    "Subscriber sub1 = new Subscriber(5454);\n",
    "Subscriber sub2 = new Subscriber(35254);\n",
    "Subscriber sub3 = new Subscriber(833838383);\n",
    "Subscriber subn = new Subscriber(833838383);"
   ]
  },
  {
   "cell_type": "code",
   "execution_count": 112,
   "metadata": {
    "dotnet_interactive": {
     "language": "csharp"
    },
    "vscode": {
     "languageId": "dotnet-interactive.csharp"
    }
   },
   "outputs": [],
   "source": [
    "publisher.Changed += sub1.subscribe;\n",
    "publisher.Changed += sub2.subscribe;\n",
    "publisher.Changed += sub3.subscribe;\n",
    "publisher.Changed += subn.subscribe;"
   ]
  },
  {
   "cell_type": "code",
   "execution_count": 113,
   "metadata": {
    "dotnet_interactive": {
     "language": "csharp"
    },
    "vscode": {
     "languageId": "dotnet-interactive.csharp"
    }
   },
   "outputs": [
    {
     "name": "stdout",
     "output_type": "stream",
     "text": [
      "Event for all subscribers new book is on sale already (!)\r\n",
      "Subscriber 5454 new book is on sale already (!)\r\n",
      "Subscriber 35254 new book is on sale already (!)\r\n",
      "Subscriber 833838383 new book is on sale already (!)\r\n",
      "Subscriber 833838383 new book is on sale already (!)\r\n"
     ]
    }
   ],
   "source": [
    "publisher.EventForPublisher(new Message(\"new book is on sale already (!)\"));"
   ]
  },
  {
   "cell_type": "markdown",
   "metadata": {},
   "source": [
    "Вывод: События сигнализируют системе о том, что произошло определенное действие. События объявляются в классе с помощью ключевого слова event, после которого идет название класса сигнатур, для которого объявляется это событие. Обработчик события – это метод, который выполняет некоторые действия в программе, в случае если событие произошло (сгенерировалось)."
   ]
  }
 ],
 "metadata": {
  "kernelspec": {
   "display_name": ".NET (C#)",
   "language": "C#",
   "name": ".net-csharp"
  },
  "language_info": {
   "file_extension": ".cs",
   "mimetype": "text/x-csharp",
   "name": "C#",
   "pygments_lexer": "csharp",
   "version": "10.0"
  },
  "orig_nbformat": 4
 },
 "nbformat": 4,
 "nbformat_minor": 2
}
