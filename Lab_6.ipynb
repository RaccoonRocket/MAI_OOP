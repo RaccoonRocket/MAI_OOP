{
 "cells": [
  {
   "cell_type": "markdown",
   "metadata": {},
   "source": [
    "# Лабораторная работа №6. \n",
    "# Тема: Ассоциация\n",
    "\n",
    "\n",
    "## Дано: \n",
    "\n",
    "Граф в виде древовидной иерархической структуры. С отмеченной пунктирой связью.\n",
    "\n",
    "![](media/var.png)\n",
    "\n",
    "## Надо:\n",
    "Реализовать ассоциативную связь(1:1, 1:N) между объектами, связь между которыми помечена. В данном случае между классом D и E.\n",
    "\n",
    "Ассоциация вида 1:1:\n",
    "\n",
    "![](media/lab6_1-1.png)\n",
    "\n",
    "\n",
    "Ассоциация вида 1:N:\n",
    "\n",
    "![](media/lab6_1-N.png)\n",
    "\n",
    "\n",
    "## Как делать? \n",
    "Разобраться в понятиях ассоциации. Связать объекты друг с другом.\n",
    "\n",
    "**Ассоциация вида 1:1**  Объекты классов D и E принадлежат ассоциации вида 1:1, если один объект класса D связан только с одним\n",
    "объектом класса E, a этот объект класса E связан с этим же объектом класса D (см. рис. 1)\n",
    "\n",
    "**Ассоциация вида 1:N** . Объекты классов D и E принадлежат категории ассоциации вида 1:N, если один объект класса D связан с N объектами класса E, a каждый объект класса E связан с этим же объектом класса D. (см. рис. 2)"
   ]
  },
  {
   "cell_type": "markdown",
   "metadata": {},
   "source": [
    "# Текст программы"
   ]
  },
  {
   "cell_type": "markdown",
   "metadata": {
    "dotnet_interactive": {
     "language": "csharp"
    }
   },
   "source": [
    "## Ассоциация 1:1"
   ]
  },
  {
   "cell_type": "code",
   "execution_count": 255,
   "metadata": {
    "dotnet_interactive": {
     "language": "csharp"
    },
    "vscode": {
     "languageId": "dotnet-interactive.csharp"
    }
   },
   "outputs": [],
   "source": [
    "class D\n",
    "{\n",
    "    public D() { Console.WriteLine(\"Constr D\"); }\n",
    "    ~D() { Console.WriteLine(\"~Destr D\"); }\n",
    "    public E e { set; get; }\n",
    "    public void mD() { Console.WriteLine(\"Method of D\"); }\n",
    "}\n",
    "\n",
    "class E\n",
    "{\n",
    "    public E() { Console.WriteLine(\"Constr E\"); }\n",
    "    ~E() { Console.WriteLine(\"~Destr E\"); }\n",
    "    public D d { set; get; }\n",
    "    public void mE() { Console.WriteLine(\"Method of E\"); }\n",
    "    public int k { set; get; }\n",
    "}"
   ]
  },
  {
   "cell_type": "code",
   "execution_count": 256,
   "metadata": {
    "dotnet_interactive": {
     "language": "csharp"
    },
    "vscode": {
     "languageId": "dotnet-interactive.csharp"
    }
   },
   "outputs": [
    {
     "name": "stdout",
     "output_type": "stream",
     "text": [
      "Constr E\r\n",
      "Constr D\r\n"
     ]
    }
   ],
   "source": [
    "E e = new E();\n",
    "D d = new D();"
   ]
  },
  {
   "cell_type": "code",
   "execution_count": 257,
   "metadata": {
    "dotnet_interactive": {
     "language": "csharp"
    },
    "vscode": {
     "languageId": "dotnet-interactive.csharp"
    }
   },
   "outputs": [],
   "source": [
    "e.d = d;\n",
    "d.e = e;"
   ]
  },
  {
   "cell_type": "markdown",
   "metadata": {
    "dotnet_interactive": {
     "language": "csharp"
    }
   },
   "source": [
    "### Вызывание методов классов, атрибутов."
   ]
  },
  {
   "cell_type": "code",
   "execution_count": 258,
   "metadata": {
    "dotnet_interactive": {
     "language": "csharp"
    },
    "vscode": {
     "languageId": "dotnet-interactive.csharp"
    }
   },
   "outputs": [
    {
     "name": "stdout",
     "output_type": "stream",
     "text": [
      "Method of D\r\n",
      "Method of E\r\n"
     ]
    }
   ],
   "source": [
    "d.mD();\n",
    "e.mE();"
   ]
  },
  {
   "cell_type": "code",
   "execution_count": 259,
   "metadata": {
    "dotnet_interactive": {
     "language": "csharp"
    },
    "vscode": {
     "languageId": "dotnet-interactive.csharp"
    }
   },
   "outputs": [
    {
     "name": "stdout",
     "output_type": "stream",
     "text": [
      "Method of D\r\n"
     ]
    }
   ],
   "source": [
    "e.d.mD();"
   ]
  },
  {
   "cell_type": "code",
   "execution_count": 260,
   "metadata": {
    "dotnet_interactive": {
     "language": "csharp"
    },
    "vscode": {
     "languageId": "dotnet-interactive.csharp"
    }
   },
   "outputs": [
    {
     "name": "stdout",
     "output_type": "stream",
     "text": [
      "d.e.k = 0\r\n"
     ]
    }
   ],
   "source": [
    "Console.WriteLine(\"d.e.k = {0}\", e.k);"
   ]
  },
  {
   "cell_type": "code",
   "execution_count": 261,
   "metadata": {
    "dotnet_interactive": {
     "language": "csharp"
    },
    "vscode": {
     "languageId": "dotnet-interactive.csharp"
    }
   },
   "outputs": [
    {
     "name": "stdout",
     "output_type": "stream",
     "text": [
      "e.d.e.k = 2\r\n",
      "e.d.e.d.e.k = 3\r\n"
     ]
    }
   ],
   "source": [
    "e.d.e.k = 2;\n",
    "Console.WriteLine(\"e.d.e.k = {0}\", e.d.e.k);\n",
    "e.d.e.d.e.k = 3;\n",
    "Console.WriteLine(\"e.d.e.d.e.k = {0}\", e.d.e.d.e.k);"
   ]
  },
  {
   "cell_type": "markdown",
   "metadata": {},
   "source": [
    "Вывод: Ассоциация - двусторонняя зависимость. При ассоциации взаимодействующие объекты, между собой условно находятся на одном уровне. Ни один из объектов не имеет превосходства над другим, и из любого можно получить другой, связанный с ним объект."
   ]
  },
  {
   "cell_type": "markdown",
   "metadata": {
    "dotnet_interactive": {
     "language": "csharp"
    }
   },
   "source": [
    "## Ассоциация 1:N"
   ]
  },
  {
   "cell_type": "code",
   "execution_count": 262,
   "metadata": {
    "dotnet_interactive": {
     "language": "csharp"
    },
    "vscode": {
     "languageId": "dotnet-interactive.csharp"
    }
   },
   "outputs": [],
   "source": [
    "class D {\n",
    "    public D(int N) { \n",
    "        Console.WriteLine(\"Constr D\");\n",
    "        this.e = new E[N];\n",
    "        this.N = N;\n",
    "     }\n",
    "     ~D() { Console.WriteLine(\"~Destr D\"); }\n",
    "     public void mD() { Console.WriteLine(\"Method of D\"); }\n",
    "\n",
    "     public int N { set; get; }\n",
    "\n",
    "     public E eD {\n",
    "        set {\n",
    "            if (size < N) {\n",
    "                this.e[this.size] = value;\n",
    "                this.size++;\n",
    "            } else Console.WriteLine(\"Error: size >= N\");\n",
    "        }\n",
    "        get { if (this.size > 0) return this.e[--size]; else return null; }\n",
    "     }\n",
    "\n",
    "    public E[] e = null;\n",
    "    private int size = 0;\n",
    "    }\n",
    "\n",
    "class E\n",
    "{\n",
    "    public E(D d) { Console.WriteLine(\"Constr E\"); this.k = 1; this.d = d; this.d.eD = this; }\n",
    "    ~E() { Console.WriteLine(\"~Destr E\"); }\n",
    "    public D d { set; get; }\n",
    "    public void mE() { Console.WriteLine(\"Method of E\"); }\n",
    "    public int k { set; get; }\n",
    "}"
   ]
  },
  {
   "cell_type": "code",
   "execution_count": 263,
   "metadata": {
    "dotnet_interactive": {
     "language": "csharp"
    },
    "vscode": {
     "languageId": "dotnet-interactive.csharp"
    }
   },
   "outputs": [
    {
     "name": "stdout",
     "output_type": "stream",
     "text": [
      "Constr D\r\n"
     ]
    }
   ],
   "source": [
    "D d = new D(3);"
   ]
  },
  {
   "cell_type": "code",
   "execution_count": 264,
   "metadata": {
    "dotnet_interactive": {
     "language": "csharp"
    },
    "vscode": {
     "languageId": "dotnet-interactive.csharp"
    }
   },
   "outputs": [
    {
     "name": "stdout",
     "output_type": "stream",
     "text": [
      "Constr E\r\n"
     ]
    }
   ],
   "source": [
    "E e1 = new E(d);\n",
    "e1.k = 1;"
   ]
  },
  {
   "cell_type": "code",
   "execution_count": 265,
   "metadata": {
    "dotnet_interactive": {
     "language": "csharp"
    },
    "vscode": {
     "languageId": "dotnet-interactive.csharp"
    }
   },
   "outputs": [
    {
     "name": "stdout",
     "output_type": "stream",
     "text": [
      "Constr E\r\n"
     ]
    }
   ],
   "source": [
    "E e2 = new E(d);\n",
    "e2.k = 2;\n"
   ]
  },
  {
   "cell_type": "code",
   "execution_count": 266,
   "metadata": {
    "dotnet_interactive": {
     "language": "csharp"
    },
    "vscode": {
     "languageId": "dotnet-interactive.csharp"
    }
   },
   "outputs": [
    {
     "name": "stdout",
     "output_type": "stream",
     "text": [
      "Constr E\r\n"
     ]
    }
   ],
   "source": [
    "E e3 = new E(d);\n",
    "e3.k = 3;"
   ]
  },
  {
   "cell_type": "code",
   "execution_count": 267,
   "metadata": {
    "dotnet_interactive": {
     "language": "csharp"
    },
    "vscode": {
     "languageId": "dotnet-interactive.csharp"
    }
   },
   "outputs": [
    {
     "name": "stdout",
     "output_type": "stream",
     "text": [
      "Method of D\r\n",
      "Method of D\r\n",
      "Method of D\r\n"
     ]
    }
   ],
   "source": [
    "e1.d.mD();\n",
    "e2.d.mD();\n",
    "e3.d.mD();  "
   ]
  },
  {
   "cell_type": "code",
   "execution_count": 268,
   "metadata": {
    "dotnet_interactive": {
     "language": "csharp"
    },
    "vscode": {
     "languageId": "dotnet-interactive.csharp"
    }
   },
   "outputs": [
    {
     "name": "stdout",
     "output_type": "stream",
     "text": [
      "Method of E\r\n",
      "Method of E\r\n",
      "Method of E\r\n"
     ]
    }
   ],
   "source": [
    "d.e[0].mE();\n",
    "d.e[1].mE();\n",
    "d.e[2].mE();"
   ]
  },
  {
   "cell_type": "code",
   "execution_count": 269,
   "metadata": {
    "dotnet_interactive": {
     "language": "csharp"
    },
    "vscode": {
     "languageId": "dotnet-interactive.csharp"
    }
   },
   "outputs": [
    {
     "name": "stdout",
     "output_type": "stream",
     "text": [
      "d.e1.k = 1\r\n",
      "d.e2.k = 2\r\n",
      "d.e3.k = 3\r\n"
     ]
    }
   ],
   "source": [
    "Console.WriteLine(\"d.e1.k = {0}\", d.e[0].k);\n",
    "Console.WriteLine(\"d.e2.k = {0}\", d.e[1].k);\n",
    "Console.WriteLine(\"d.e3.k = {0}\", d.e[2].k);"
   ]
  },
  {
   "cell_type": "markdown",
   "metadata": {},
   "source": [
    "Вывод: В ассоциации 1 : N  каждый из N объектов указывает на 1, общий для всех, объект, который в свою очередь имеет N указателей на другие объекты. При этом, из одного объекта группы, с помощью общего можно перейти к другим объектам этой группы."
   ]
  }
 ],
 "metadata": {
  "kernelspec": {
   "display_name": ".NET (C#)",
   "language": "C#",
   "name": ".net-csharp"
  },
  "language_info": {
   "name": "C#"
  }
 },
 "nbformat": 4,
 "nbformat_minor": 2
}
