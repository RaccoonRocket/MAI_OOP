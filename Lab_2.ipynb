{
 "cells": [
  {
   "cell_type": "markdown",
   "metadata": {},
   "source": [
    "# Лабораторная работа №2.\n",
    "# Тема: Агрегация по значению и вложением.\n",
    "\n",
    "## Агрегация по значению.\n",
    "\n",
    "## Определение:\n",
    "\n",
    "*Агрегация* – отношение ”часть-целое” между двумя равноправными объектами. Отношение агрегация применяется для создания иерархии “Целое - часть”. Доступ осуществляется к атрибуту класса через атрибут доступа\n",
    "\n",
    "*Агрегация по значению* - вариант агрегирования, когда включаемый объект может существовать только как часть контейнера. Если контейнер будет уничтожен, то и включённый объект тоже будет уничтожен.\n",
    "\n",
    "Граф в виде древовидной иерархической структуры\n",
    "\n",
    "![](media/var.png)\n",
    "\n",
    "Диаграмма классов: агрегация по значению:\n",
    "\n",
    "![](media/lab1&2_agregation.png)\n",
    "\n",
    "Диаграмма вызова конструкторов класса:\n",
    "\n",
    "![](media/lab2_call_constr.png)\n"
   ]
  },
  {
   "cell_type": "markdown",
   "metadata": {},
   "source": [
    "# Код. Агрегация по значению"
   ]
  },
  {
   "cell_type": "markdown",
   "metadata": {},
   "source": [
    "## Текст программы"
   ]
  },
  {
   "cell_type": "code",
   "execution_count": 1,
   "metadata": {
    "dotnet_interactive": {
     "language": "csharp"
    },
    "vscode": {
     "languageId": "dotnet-interactive.csharp"
    }
   },
   "outputs": [],
   "source": [
    "using System;"
   ]
  },
  {
   "cell_type": "markdown",
   "metadata": {},
   "source": [
    "## class K"
   ]
  },
  {
   "cell_type": "code",
   "execution_count": 2,
   "metadata": {
    "dotnet_interactive": {
     "language": "csharp"
    },
    "vscode": {
     "languageId": "dotnet-interactive.csharp"
    }
   },
   "outputs": [],
   "source": [
    "class K {\n",
    "    public K() { Console.WriteLine(\"Constr K\"); }\n",
    "    ~K() { Console.WriteLine(\"Destr K\"); }\n",
    "\n",
    "    public void method_K() {\n",
    "        Console.WriteLine(\"Method of K\");\n",
    "    }\n",
    "}"
   ]
  },
  {
   "cell_type": "markdown",
   "metadata": {},
   "source": [
    "## class J"
   ]
  },
  {
   "cell_type": "code",
   "execution_count": 3,
   "metadata": {
    "dotnet_interactive": {
     "language": "csharp"
    },
    "vscode": {
     "languageId": "dotnet-interactive.csharp"
    }
   },
   "outputs": [],
   "source": [
    "class J {\n",
    "    public J() { Console.WriteLine(\"Constr J\"); }\n",
    "    ~J() { Console.WriteLine(\"Destr J\"); }\n",
    "\n",
    "    public void method_J() {\n",
    "        Console.WriteLine(\"Method of J\");\n",
    "    }\n",
    "}"
   ]
  },
  {
   "cell_type": "markdown",
   "metadata": {},
   "source": [
    "## class F"
   ]
  },
  {
   "cell_type": "code",
   "execution_count": 4,
   "metadata": {
    "dotnet_interactive": {
     "language": "csharp"
    },
    "vscode": {
     "languageId": "dotnet-interactive.csharp"
    }
   },
   "outputs": [],
   "source": [
    "class F {\n",
    "    public F() { Console.WriteLine(\"Constr F\"); }\n",
    "    ~F() { Console.WriteLine(\"Destr F\"); }\n",
    "\n",
    "    public void method_F() {\n",
    "        Console.WriteLine(\"Method of F\");\n",
    "    }\n",
    "}"
   ]
  },
  {
   "cell_type": "markdown",
   "metadata": {},
   "source": [
    "## class E"
   ]
  },
  {
   "cell_type": "code",
   "execution_count": 5,
   "metadata": {
    "dotnet_interactive": {
     "language": "csharp"
    },
    "vscode": {
     "languageId": "dotnet-interactive.csharp"
    }
   },
   "outputs": [],
   "source": [
    "class E {\n",
    "    public E() { Console.WriteLine(\"Constr E\"); }\n",
    "    ~E() { Console.WriteLine(\"Destr E\"); }\n",
    "\n",
    "    public void method_E() {\n",
    "        Console.WriteLine(\"Method of E\");\n",
    "    }\n",
    "}"
   ]
  },
  {
   "cell_type": "markdown",
   "metadata": {},
   "source": [
    "## class D"
   ]
  },
  {
   "cell_type": "code",
   "execution_count": 6,
   "metadata": {
    "dotnet_interactive": {
     "language": "csharp"
    },
    "vscode": {
     "languageId": "dotnet-interactive.csharp"
    }
   },
   "outputs": [],
   "source": [
    "class D {\n",
    "    public D() { Console.WriteLine(\"Constr D\"); }\n",
    "    ~D() { Console.WriteLine(\"Destr D\"); }\n",
    "\n",
    "    public void method_D() {\n",
    "        Console.WriteLine(\"Method of D\");\n",
    "    }\n",
    "}"
   ]
  },
  {
   "cell_type": "markdown",
   "metadata": {},
   "source": [
    "## class C"
   ]
  },
  {
   "cell_type": "code",
   "execution_count": 7,
   "metadata": {
    "dotnet_interactive": {
     "language": "csharp"
    },
    "vscode": {
     "languageId": "dotnet-interactive.csharp"
    }
   },
   "outputs": [],
   "source": [
    "class C {\n",
    "    public C() { Console.WriteLine(\"Constr C\"); }\n",
    "    ~C() { Console.WriteLine(\"Destr C\"); }\n",
    "\n",
    "    public void method_C() {\n",
    "        Console.WriteLine(\"Method of C\");\n",
    "    }\n",
    "\n",
    "    public E e_A { get { Console.Write(\"get e -> \"); return e; } }\n",
    "    public F f_A { get { Console.Write(\"get f -> \"); return f; } }\n",
    "\n",
    "    private E e = new E();\n",
    "    private F f = new F();\n",
    "}"
   ]
  },
  {
   "cell_type": "markdown",
   "metadata": {},
   "source": [
    "## class B"
   ]
  },
  {
   "cell_type": "code",
   "execution_count": 8,
   "metadata": {
    "dotnet_interactive": {
     "language": "csharp"
    },
    "vscode": {
     "languageId": "dotnet-interactive.csharp"
    }
   },
   "outputs": [],
   "source": [
    "class B {\n",
    "    public B() { Console.WriteLine(\"Constr B\"); }\n",
    "    ~B() { Console.WriteLine(\"Destr B\"); }\n",
    "\n",
    "    public void method_B() {\n",
    "        Console.WriteLine(\"Method of B\");\n",
    "    }\n",
    "\n",
    "    public D d_A { get { Console.Write(\"get d -> \"); return d; } }\n",
    "    public K k_A { get { Console.Write(\"get k -> \"); return k; } }\n",
    "\n",
    "    private D d = new D();\n",
    "    private K k = new K();\n",
    "}"
   ]
  },
  {
   "cell_type": "markdown",
   "metadata": {},
   "source": [
    "## class A"
   ]
  },
  {
   "cell_type": "code",
   "execution_count": 9,
   "metadata": {
    "dotnet_interactive": {
     "language": "csharp"
    },
    "vscode": {
     "languageId": "dotnet-interactive.csharp"
    }
   },
   "outputs": [],
   "source": [
    "class A {\n",
    "    public A() { Console.WriteLine(\"Constr A\"); }\n",
    "    ~A() { Console.WriteLine(\"Destr A\"); }\n",
    "\n",
    "    public void method_A() {\n",
    "        Console.WriteLine(\"Method of A\");\n",
    "    }\n",
    "\n",
    "    public B b_A { get { Console.Write(\"get b -> \"); return b; } }\n",
    "    public C c_A { get { Console.Write(\"get c -> \"); return c; } }\n",
    "    public J j_A { get { Console.Write(\"get j -> \"); return j; } }\n",
    "\n",
    "    private B b = new B();\n",
    "    private C c = new C();\n",
    "    private J j = new J();\n",
    "}"
   ]
  },
  {
   "cell_type": "markdown",
   "metadata": {},
   "source": [
    "## Работа программы"
   ]
  },
  {
   "cell_type": "code",
   "execution_count": 10,
   "metadata": {
    "dotnet_interactive": {
     "language": "csharp"
    },
    "vscode": {
     "languageId": "dotnet-interactive.csharp"
    }
   },
   "outputs": [
    {
     "name": "stdout",
     "output_type": "stream",
     "text": [
      "Constr D\r\n",
      "Constr K\r\n",
      "Constr B\r\n",
      "Constr E\r\n",
      "Constr F\r\n",
      "Constr C\r\n",
      "Constr J\r\n",
      "Constr A\r\n",
      "Method of A\r\n",
      "get b -> Method of B\r\n",
      "get c -> Method of C\r\n",
      "get j -> Method of J\r\n",
      "get b -> get d -> Method of D\r\n",
      "get b -> get k -> Method of K\r\n",
      "get c -> get e -> Method of E\r\n",
      "get c -> get f -> Method of F\r\n"
     ]
    }
   ],
   "source": [
    "A a = new A();\n",
    "\n",
    "a.method_A();\n",
    "a.b_A.method_B();\n",
    "a.c_A.method_C();\n",
    "a.j_A.method_J();\n",
    "\n",
    "a.b_A.d_A.method_D();\n",
    "a.b_A.k_A.method_K();\n",
    "a.c_A.e_A.method_E();\n",
    "a.c_A.f_A.method_F();\n"
   ]
  },
  {
   "cell_type": "markdown",
   "metadata": {},
   "source": [
    "Вывод: при агрегации по значению все объекты класса существуют внутри объявленного класса. При таком виде агрегации невозможно удалить объекты, являющиеся частью объекта первого по иерархии класса. Например, b, с, j — части объекта а класса А(первый класс по иерархии); эти части создаются только при вызове конструктора класса A, а уничтожаются — при вызове деструктора А."
   ]
  },
  {
   "cell_type": "markdown",
   "metadata": {},
   "source": [
    "# Код. Агрегация по вложению\n",
    "\n",
    "Диаграмма классов: агрегация по вложению:\n",
    "\n",
    "![](media/lab2_agregation_by_value.png)"
   ]
  },
  {
   "cell_type": "markdown",
   "metadata": {},
   "source": [
    "# Текст программы"
   ]
  },
  {
   "cell_type": "code",
   "execution_count": 11,
   "metadata": {
    "dotnet_interactive": {
     "language": "csharp"
    },
    "vscode": {
     "languageId": "dotnet-interactive.csharp"
    }
   },
   "outputs": [],
   "source": [
    "class A {\n",
    "    public A() { Console.WriteLine(\"Constr A\"); }\n",
    "    ~A() { Console.WriteLine(\"Destr A\"); }\n",
    "\n",
    "\n",
    "    public class B {\n",
    "        public B() { Console.WriteLine(\"Constr B\");  }\n",
    "        ~B() { Console.WriteLine(\"Destr B\"); }\n",
    "\n",
    "\n",
    "        public class D {\n",
    "            public D() { Console.WriteLine(\"Constr D\"); }\n",
    "            ~D() { Console.WriteLine(\"Destr D\"); }\n",
    "\n",
    "            public void method_D() {\n",
    "                Console.WriteLine(\"Method of D\");\n",
    "            }\n",
    "        }\n",
    "\n",
    "\n",
    "        public class K {\n",
    "            public K() { Console.WriteLine(\"Constr K\"); }\n",
    "            ~K() { Console.WriteLine(\"Destr K\"); }\n",
    "\n",
    "            public void method_K() {\n",
    "                Console.WriteLine(\"Method of K\");\n",
    "            }\n",
    "        }\n",
    "\n",
    "\n",
    "        public void method_B() {\n",
    "            Console.WriteLine(\"Method of B\");\n",
    "        }\n",
    "\n",
    "        public D d_A { get { Console.Write(\"get d -> \"); return d; } }\n",
    "        public K k_A { get { Console.Write(\"get k -> \"); return k; } }\n",
    "\n",
    "        private D d = new D();\n",
    "        private K k = new K();\n",
    "    }\n",
    "\n",
    "\n",
    "    public class C {\n",
    "        public C() { Console.WriteLine(\"Constr C\"); }\n",
    "        ~C() { Console.WriteLine(\"Destr C\"); }\n",
    "\n",
    "\n",
    "        public class E {\n",
    "            public E() { Console.WriteLine(\"Constr E\"); }\n",
    "            ~E() { Console.WriteLine(\"Destr E\"); }\n",
    "\n",
    "            public void method_E() {\n",
    "                Console.WriteLine(\"Method of E\");\n",
    "            }\n",
    "        }\n",
    "\n",
    "\n",
    "        public class F {\n",
    "            public F() { Console.WriteLine(\"Constr F\"); }\n",
    "            ~F() { Console.WriteLine(\"Destr F\"); }\n",
    "\n",
    "            public void method_F() {\n",
    "                Console.WriteLine(\"Method of F\");\n",
    "            }\n",
    "        }\n",
    "\n",
    "\n",
    "        public void method_C() {\n",
    "            Console.WriteLine(\"Method of C\");\n",
    "        }\n",
    "\n",
    "        public E e_A { get { Console.Write(\"get e -> \"); return e; } }\n",
    "        public F f_A { get { Console.Write(\"get f -> \"); return f; } }\n",
    "\n",
    "        private E e = new E();\n",
    "        private F f = new F();\n",
    "    }\n",
    "\n",
    "\n",
    "    public class J {\n",
    "        public void method_J() {\n",
    "            Console.WriteLine(\"Method of J\");\n",
    "        }\n",
    "    }\n",
    "   \n",
    "    \n",
    "    public void method_A() {\n",
    "        Console.WriteLine(\"Method of A\");\n",
    "    }\n",
    "\n",
    "    public B b_A { get { Console.Write(\"get b -> \"); return b; } }\n",
    "    public C c_A { get { Console.Write(\"get c -> \"); return c; } }\n",
    "    public J j_A { get { Console.Write(\"get j -> \"); return j; } }\n",
    "\n",
    "    private B b = new B();\n",
    "    private C c = new C();\n",
    "    private J j = new J();\n",
    "}"
   ]
  },
  {
   "cell_type": "code",
   "execution_count": 12,
   "metadata": {
    "dotnet_interactive": {
     "language": "csharp"
    },
    "vscode": {
     "languageId": "dotnet-interactive.csharp"
    }
   },
   "outputs": [
    {
     "name": "stdout",
     "output_type": "stream",
     "text": [
      "Constr D\r\n",
      "Constr K\r\n",
      "Constr B\r\n",
      "Constr E\r\n",
      "Constr F\r\n",
      "Constr C\r\n",
      "Constr A\r\n",
      "Method of A\r\n",
      "get b -> Method of B\r\n",
      "get c -> Method of C\r\n",
      "get j -> Method of J\r\n",
      "get b -> get d -> Method of D\r\n",
      "get b -> get k -> Method of K\r\n",
      "get c -> get e -> Method of E\r\n",
      "get c -> get f -> Method of F\r\n"
     ]
    }
   ],
   "source": [
    "A a = new A();\n",
    "\n",
    "a.method_A();\n",
    "\n",
    "a.b_A.method_B();\n",
    "a.c_A.method_C();\n",
    "a.j_A.method_J();\n",
    "\n",
    "a.b_A.d_A.method_D();\n",
    "a.b_A.k_A.method_K();\n",
    "a.c_A.e_A.method_E();\n",
    "a.c_A.f_A.method_F();\n"
   ]
  },
  {
   "cell_type": "markdown",
   "metadata": {},
   "source": [
    "Вывод: при агрегации вложением определение классов происходит внутри классов, стоящих выше по иерархии. Все объекты создаваемого класса существуют внутри него самого. Как и в случае агрегации по значению уничтожение объектов, невозможно без уничтожения класса, стоящего выше по иерархии. Агрегация по ссылке намного лучше агрегации по значению или вложению, так как агрегация по ссылке расходует меньше памяти."
   ]
  }
 ],
 "metadata": {
  "kernelspec": {
   "display_name": ".NET (C#)",
   "language": "C#",
   "name": ".net-csharp"
  },
  "language_info": {
   "file_extension": ".cs",
   "mimetype": "text/x-csharp",
   "name": "C#",
   "pygments_lexer": "csharp",
   "version": "9.0"
  },
  "orig_nbformat": 4
 },
 "nbformat": 4,
 "nbformat_minor": 2
}
