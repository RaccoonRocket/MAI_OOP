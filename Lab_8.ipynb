{
 "cells": [
  {
   "cell_type": "markdown",
   "metadata": {},
   "source": [
    "# Лабораторная работа №8. \n",
    "# Тема: Конкретизация: параметр метода, конструктора и атрибутов. Множественная конкретизация. Конкретизация с ограничениями (операция is).\n",
    "\n",
    "## Дано:\n",
    "\n",
    "Граф в виде древовидной иерархической структуры. С отмеченной пунктирной связью.\n",
    "\n",
    "![](media/var.png)\n",
    "\n",
    "## Надо:\n",
    "Реализовать отношение конкретизации.\n",
    "\n",
    "## Как делать?\n",
    "Узнать, что такое конкретизация. Начертить диаграмму и написать код с отношением конкретизации: параметр функции и операции, конструктора и атрибутов. Множественная конкретизация. Конкретизация с ограничениями.\n",
    "\n",
    "\n",
    "![](media/lab8.png)\n",
    "\n",
    "Рис. 1. Конкретизация класса Swap\n",
    "\n",
    "**Отношение конкретизации** возникает\n",
    "между объектами, когда класс, выступающий в качестве шаблона (Template) с параметрами, конкретизируется другим\n",
    "классом.\n",
    "\n"
   ]
  },
  {
   "cell_type": "markdown",
   "metadata": {},
   "source": [
    "# Текст программы"
   ]
  },
  {
   "cell_type": "markdown",
   "metadata": {
    "dotnet_interactive": {
     "language": "csharp"
    }
   },
   "source": [
    "## Алгоритм swap(x, y)"
   ]
  },
  {
   "cell_type": "code",
   "execution_count": 1,
   "metadata": {
    "dotnet_interactive": {
     "language": "csharp"
    },
    "vscode": {
     "languageId": "dotnet-interactive.csharp"
    }
   },
   "outputs": [],
   "source": [
    "class A {}\n",
    "class B {}"
   ]
  },
  {
   "cell_type": "code",
   "execution_count": 2,
   "metadata": {
    "dotnet_interactive": {
     "language": "csharp"
    },
    "vscode": {
     "languageId": "dotnet-interactive.csharp"
    }
   },
   "outputs": [],
   "source": [
    "class Swap {\n",
    "    public Swap() { Console.WriteLine(\"Costr Swap\"); }\n",
    "    ~Swap() { Console.WriteLine(\"Destr Swap\"); }\n",
    "    public void swap(ref A x, ref A y)\n",
    "    {\n",
    "        A t = x;\n",
    "        x = y;\n",
    "        y = t;\n",
    "    }\n",
    "}"
   ]
  },
  {
   "cell_type": "code",
   "execution_count": 3,
   "metadata": {
    "dotnet_interactive": {
     "language": "csharp"
    },
    "vscode": {
     "languageId": "dotnet-interactive.csharp"
    }
   },
   "outputs": [
    {
     "name": "stdout",
     "output_type": "stream",
     "text": [
      "Costr Swap\r\n",
      "x hashcode 44717890\r\n",
      "y hashcode 65891798\r\n",
      "----------------------------------------\r\n",
      "x hashcode 65891798\r\n",
      "y hashcode 44717890\r\n"
     ]
    }
   ],
   "source": [
    "Swap s = new Swap();\n",
    "A x = new A();\n",
    "A y = new A();\n",
    "Console.WriteLine($\"x hashcode {x.GetHashCode().ToString()}\");\n",
    "Console.WriteLine($\"y hashcode {y.GetHashCode().ToString()}\");\n",
    "Console.WriteLine(\"----------------------------------------\");\n",
    "\n",
    "s.swap(ref x, ref y);\n",
    "\n",
    "Console.WriteLine($\"x hashcode {x.GetHashCode().ToString()}\");\n",
    "Console.WriteLine($\"y hashcode {y.GetHashCode().ToString()}\");"
   ]
  },
  {
   "cell_type": "markdown",
   "metadata": {
    "dotnet_interactive": {
     "language": "csharp"
    }
   },
   "source": [
    "## Конкретизация класса, конструтора, метода, атрибута"
   ]
  },
  {
   "cell_type": "code",
   "execution_count": 4,
   "metadata": {
    "dotnet_interactive": {
     "language": "csharp"
    },
    "vscode": {
     "languageId": "dotnet-interactive.csharp"
    }
   },
   "outputs": [],
   "source": [
    "class Swap <T> {\n",
    "    public Swap() { Console.WriteLine(\"Constr Swap\"); }\n",
    "    public Swap(T t) { this.t = t; Console.WriteLine(\"Constr Swap\"); }\n",
    "    ~Swap() { Console.WriteLine(\"Destr Swap\"); }\n",
    "    public void swap(ref T x, ref T y) \n",
    "    {\n",
    "        T t = x;\n",
    "        x = y;\n",
    "        y = t;\n",
    "    }\n",
    "    public void swapST(ref T x)\n",
    "    {\n",
    "        T temp = x;\n",
    "        x = this.t;\n",
    "        this.t = temp;\n",
    "    }\n",
    "    public void print() { Console.WriteLine($\"t HashCode {t.GetHashCode().ToString()}\"); }\n",
    "    T t {set; get;}\n",
    "}"
   ]
  },
  {
   "cell_type": "code",
   "execution_count": 5,
   "metadata": {
    "dotnet_interactive": {
     "language": "csharp"
    },
    "vscode": {
     "languageId": "dotnet-interactive.csharp"
    }
   },
   "outputs": [
    {
     "name": "stdout",
     "output_type": "stream",
     "text": [
      "Constr Swap\r\n",
      "x hashcode 18784674\r\n",
      "y hashcode 64093464\r\n",
      "-------------------\r\n",
      "x hashcode 64093464\r\n",
      "y hashcode 18784674\r\n"
     ]
    }
   ],
   "source": [
    "Swap <B> s = new Swap <B> ();\n",
    "\n",
    "B x = new B();\n",
    "B y = new B();\n",
    "Console.WriteLine($\"x hashcode {x.GetHashCode().ToString()}\");\n",
    "Console.WriteLine($\"y hashcode {y.GetHashCode().ToString()}\");\n",
    "Console.WriteLine(\"-------------------\");\n",
    "s.swap(ref x, ref y);\n",
    "\n",
    "Console.WriteLine($\"x hashcode {x.GetHashCode().ToString()}\");\n",
    "Console.WriteLine($\"y hashcode {y.GetHashCode().ToString()}\");"
   ]
  },
  {
   "cell_type": "code",
   "execution_count": 6,
   "metadata": {
    "dotnet_interactive": {
     "language": "csharp"
    },
    "vscode": {
     "languageId": "dotnet-interactive.csharp"
    }
   },
   "outputs": [
    {
     "name": "stdout",
     "output_type": "stream",
     "text": [
      "b(atribute swap) hashcode 24290909\r\n",
      "b1 hashcode 42404541\r\n",
      "Constr Swap\r\n",
      "t HashCode 24290909\r\n",
      "-------------------\r\n",
      "t HashCode 42404541\r\n"
     ]
    }
   ],
   "source": [
    "B b = new B();\n",
    "B b1 = new B();\n",
    "Console.WriteLine($\"b(atribute swap) hashcode {b.GetHashCode().ToString()}\");\n",
    "Console.WriteLine($\"b1 hashcode {b1.GetHashCode().ToString()}\");\n",
    "Swap <B> ST = new Swap <B>(b);\n",
    "ST.print();\n",
    "ST.swapST(ref b1);\n",
    "Console.WriteLine(\"-------------------\");\n",
    "ST.print();"
   ]
  },
  {
   "cell_type": "markdown",
   "metadata": {
    "dotnet_interactive": {
     "language": "csharp"
    }
   },
   "source": [
    "## Множественная конкретизация"
   ]
  },
  {
   "cell_type": "code",
   "execution_count": 7,
   "metadata": {
    "dotnet_interactive": {
     "language": "csharp"
    },
    "vscode": {
     "languageId": "dotnet-interactive.csharp"
    }
   },
   "outputs": [],
   "source": [
    "class S <T1, T2> {\n",
    "    public S() {Console.WriteLine(\"Constr S\"); }\n",
    "    public S(T1 t1, T2 t2) \n",
    "    { \n",
    "        this.t1 = t1;\n",
    "        this.t2 = t2;\n",
    "        Console.WriteLine(\"Constr S\");\n",
    "     }\n",
    "    ~S() { Console.WriteLine(\"Destr S\"); }\n",
    "    public void print() \n",
    "    { \n",
    "        Console.WriteLine($\"t1 HashCode {t1.GetHashCode().ToString()}\");\n",
    "        Console.WriteLine($\"t2 HashCode {t2.GetHashCode().ToString()}\");\n",
    "     }\n",
    "    T1 t1 {set; get;}\n",
    "    T2 t2 {set; get;}\n",
    "}"
   ]
  },
  {
   "cell_type": "code",
   "execution_count": 8,
   "metadata": {
    "dotnet_interactive": {
     "language": "csharp"
    },
    "vscode": {
     "languageId": "dotnet-interactive.csharp"
    }
   },
   "outputs": [
    {
     "name": "stdout",
     "output_type": "stream",
     "text": [
      "a HashCode 55542544\r\n",
      "Constr S\r\n",
      "t1 HashCode 55542544\r\n",
      "t2 HashCode 24290909\r\n"
     ]
    }
   ],
   "source": [
    "A a = new A();\n",
    "Console.WriteLine($\"a HashCode {a.GetHashCode().ToString()}\");\n",
    "S <A, B> st = new S<A,B>(a, b);\n",
    "st.print();"
   ]
  },
  {
   "cell_type": "markdown",
   "metadata": {
    "dotnet_interactive": {
     "language": "csharp"
    }
   },
   "source": [
    "## Множественная конкретизация с множественными ограничениями"
   ]
  },
  {
   "cell_type": "code",
   "execution_count": 9,
   "metadata": {
    "dotnet_interactive": {
     "language": "csharp"
    },
    "vscode": {
     "languageId": "dotnet-interactive.csharp"
    }
   },
   "outputs": [],
   "source": [
    "class L <T1, T2> where T1: class\n",
    "                 where T2: class\n",
    "     {\n",
    "        public L() { Console.WriteLine(\"Constr L\"); }\n",
    "        public void f1(T1 t1, T2 t2) { Console.WriteLine(\"Hi T1, T2\"); }\n",
    "     }   "
   ]
  },
  {
   "cell_type": "code",
   "execution_count": 10,
   "metadata": {
    "dotnet_interactive": {
     "language": "csharp"
    },
    "vscode": {
     "languageId": "dotnet-interactive.csharp"
    }
   },
   "outputs": [
    {
     "name": "stdout",
     "output_type": "stream",
     "text": [
      "Constr L\r\n",
      "Hi T1, T2\r\n"
     ]
    }
   ],
   "source": [
    "L <A, B> lt = new L<A,B>();\n",
    "lt.f1(a, b);"
   ]
  },
  {
   "cell_type": "markdown",
   "metadata": {
    "dotnet_interactive": {
     "language": "csharp"
    }
   },
   "source": [
    "## Операция is"
   ]
  },
  {
   "cell_type": "code",
   "execution_count": 11,
   "metadata": {
    "dotnet_interactive": {
     "language": "csharp"
    },
    "vscode": {
     "languageId": "dotnet-interactive.csharp"
    }
   },
   "outputs": [],
   "source": [
    "public interface IA \n",
    "    {\n",
    "        void F();\n",
    "    }\n",
    "\n",
    "class D : IA \n",
    "    {\n",
    "        public void F() { Console.WriteLine(\"Realize function F() in D\"); } \n",
    "    }\n"
   ]
  },
  {
   "cell_type": "code",
   "execution_count": 12,
   "metadata": {
    "dotnet_interactive": {
     "language": "csharp"
    },
    "vscode": {
     "languageId": "dotnet-interactive.csharp"
    }
   },
   "outputs": [],
   "source": [
    "class U<T> where T: class\n",
    "{\n",
    "    public U(T t) { this.t = t; Console.WriteLine(\"Constr U\"); }\n",
    "    public void F1() { Console.WriteLine(\"Hi\"); }\n",
    "    public void F() \n",
    "    {\n",
    "        Console.WriteLine(t is IA);\n",
    "        Console.WriteLine($\"Name of object : {t}\");\n",
    "        if (t is IA) \n",
    "        {\n",
    "            IA ia = (IA)t;\n",
    "            ia.F();\n",
    "        }\n",
    "        else Console.WriteLine(\"False\");\n",
    "    }\n",
    "    public T t { set; get; }\n",
    "}"
   ]
  },
  {
   "cell_type": "code",
   "execution_count": 13,
   "metadata": {
    "dotnet_interactive": {
     "language": "csharp"
    },
    "vscode": {
     "languageId": "dotnet-interactive.csharp"
    }
   },
   "outputs": [
    {
     "name": "stdout",
     "output_type": "stream",
     "text": [
      "Constr U\r\n",
      "True\r\n",
      "Name of object : Submission#12+D\r\n",
      "Realize function F() in D\r\n"
     ]
    }
   ],
   "source": [
    "D d = new D();\n",
    "U <IA> ia = new U<IA>(d);\n",
    "ia.F()"
   ]
  },
  {
   "cell_type": "markdown",
   "metadata": {},
   "source": [
    "Вывод: Конкретизация позволяет описывать классы и функции для работы с объектами, типы которых заранее не определены. С каким(и) именно типам(и) придется работать определяется в момент вызова – имя типа настраивает функцию\\класс для работы.\n"
   ]
  }
 ],
 "metadata": {
  "kernelspec": {
   "display_name": ".NET (C#)",
   "language": "C#",
   "name": ".net-csharp"
  },
  "language_info": {
   "file_extension": ".cs",
   "mimetype": "text/x-csharp",
   "name": "C#",
   "pygments_lexer": "csharp",
   "version": "9.0"
  },
  "orig_nbformat": 4
 },
 "nbformat": 4,
 "nbformat_minor": 2
}
