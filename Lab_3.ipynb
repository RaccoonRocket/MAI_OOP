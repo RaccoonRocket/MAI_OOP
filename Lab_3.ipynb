{
 "cells": [
  {
   "cell_type": "markdown",
   "metadata": {},
   "source": [
    "# Лабораторная работа №3 \n",
    "# Тема: Наследование: принцип подстановки. \n",
    "\n",
    "**Определения:**\n",
    "\n",
    "**Наследование** - механизм создания нового класса на основе уже существующего старого, другими словами “общее-частное”. Старый класс называется “родительским”. Новый класс называется “дочерним”. Наследование нужно для повторного использования кода. Дочерний класс содержит атрибуты родительского класса.\n",
    "\n",
    "**Принцип подстановки** – принцип, при котором вместо объекта суперкласса можно подставить объект подкласса. \n",
    "\n",
    "**Принцип замещения** – принцип, при котором функцию суперкласса можно заменить функцией подкласса.\n",
    "\n",
    "Граф в виде древовидной иерархической системы:\n",
    "\n",
    "![](media/Lab3_graph.png)\n",
    "\n",
    "Диаграмма абстрактного расположения объектов в оперативной памяти при подстановке:\n",
    "\n",
    "![](media/Lab3_in_memory.jpg)\n",
    "\n"
   ]
  },
  {
   "cell_type": "markdown",
   "metadata": {},
   "source": [
    "# Текст программы"
   ]
  },
  {
   "cell_type": "code",
   "execution_count": 13,
   "metadata": {
    "dotnet_interactive": {
     "language": "csharp"
    },
    "vscode": {
     "languageId": "dotnet-interactive.csharp"
    }
   },
   "outputs": [],
   "source": [
    "using System;"
   ]
  },
  {
   "cell_type": "markdown",
   "metadata": {},
   "source": [
    "# class A"
   ]
  },
  {
   "cell_type": "code",
   "execution_count": 14,
   "metadata": {
    "dotnet_interactive": {
     "language": "csharp"
    },
    "vscode": {
     "languageId": "dotnet-interactive.csharp"
    }
   },
   "outputs": [],
   "source": [
    "class A \n",
    "{\n",
    "    public A()\n",
    "    {\n",
    "        Console.WriteLine(\"Constr A\");\n",
    "        this.a = 5;\n",
    "    }\n",
    "    ~A() { }\n",
    "\n",
    "    public virtual int fa()  // замещаемая функция\n",
    "    {\n",
    "        Console.WriteLine(\"Method A, function fa... a + 3\");\n",
    "        return a + 3;\n",
    "    }\n",
    "\n",
    "    protected int a { set; get; }\n",
    "\n",
    "}"
   ]
  },
  {
   "cell_type": "markdown",
   "metadata": {},
   "source": [
    "# class B"
   ]
  },
  {
   "cell_type": "code",
   "execution_count": 15,
   "metadata": {
    "dotnet_interactive": {
     "language": "csharp"
    },
    "vscode": {
     "languageId": "dotnet-interactive.csharp"
    }
   },
   "outputs": [],
   "source": [
    "class B : A \n",
    "{\n",
    "    public B()\n",
    "    {\n",
    "        Console.WriteLine(\"Constr B\");\n",
    "        this.a = 10;\n",
    "        this.b = 8;\n",
    "    }\n",
    "    ~B() { }\n",
    "\n",
    "    public override int fa()  // расширение функции, наследуемой из класса А\n",
    "    {\n",
    "        Console.WriteLine(\"Method B, function fa... a * 8\");\n",
    "        return a * 8;\n",
    "    }\n",
    "\n",
    "    public virtual int fb()\n",
    "    {\n",
    "        Console.WriteLine(\"Method B, function fb... b * 10\");\n",
    "        return b * 10;\n",
    "    }\n",
    "\n",
    "    protected int b { get; set; }\n",
    "}"
   ]
  },
  {
   "cell_type": "markdown",
   "metadata": {},
   "source": [
    "# class D"
   ]
  },
  {
   "cell_type": "code",
   "execution_count": 16,
   "metadata": {
    "dotnet_interactive": {
     "language": "csharp"
    },
    "vscode": {
     "languageId": "dotnet-interactive.csharp"
    }
   },
   "outputs": [],
   "source": [
    "class D : B \n",
    "{\n",
    "    public D()\n",
    "    {\n",
    "        Console.WriteLine(\"Constr D\");\n",
    "        this.a = 66;\n",
    "        this.d = 13;\n",
    "    }\n",
    "    ~D() { }\n",
    "\n",
    "    public override int fa()\n",
    "    {\n",
    "        Console.WriteLine(\"Method D, function fa... a - 14\");\n",
    "        return a - 14;\n",
    "    }\n",
    "\n",
    "    public virtual int fd()\n",
    "    {\n",
    "        Console.WriteLine(\"Method D, function fd... d - 12\");\n",
    "        return d - 12;\n",
    "    }\n",
    "\n",
    "    protected int d { get; set; }\n",
    "}"
   ]
  },
  {
   "cell_type": "markdown",
   "metadata": {},
   "source": [
    "# Работа программы"
   ]
  },
  {
   "cell_type": "code",
   "execution_count": 17,
   "metadata": {
    "dotnet_interactive": {
     "language": "csharp"
    },
    "vscode": {
     "languageId": "dotnet-interactive.csharp"
    }
   },
   "outputs": [
    {
     "name": "stdout",
     "output_type": "stream",
     "text": [
      "Constr A\r\n",
      "Method A, function fa... a + 3\r\n",
      "a.fa() = 8\r\n",
      "\r\n",
      "Constr A\r\n",
      "Constr B\r\n",
      "Method B, function fa... a * 8\r\n",
      "a.fa() = 80\r\n",
      "\r\n",
      "Constr A\r\n",
      "Constr B\r\n",
      "Constr D\r\n",
      "Method D, function fa... a - 14\r\n",
      "a.fa() = 52\r\n",
      "\r\n",
      "Проверка, является ли a объектом класса D:\r\n",
      "Это объект класса D\r\n",
      "\r\n"
     ]
    }
   ],
   "source": [
    "A a = null;\n",
    "a = new A();\n",
    "Console.WriteLine(\"a.fa() = {0}\", a.fa()); //вызываем метод fa от обьекта класса A\n",
    "Console.WriteLine();\n",
    "\n",
    "a = new B(); //подстановка (объекта класса A в B)\n",
    "Console.WriteLine(\"a.fa() = {0}\", a.fa()); //замещённая функция fa\n",
    "Console.WriteLine();\n",
    "\n",
    "a = new D();\n",
    "Console.WriteLine(\"a.fa() = {0}\", a.fa()); //замещение функции fa\n",
    "Console.WriteLine();\n",
    "\n",
    "Console.WriteLine(\"Проверка, является ли a объектом класса D:\");\n",
    "if (a is D)\n",
    "    Console.WriteLine(\"Это объект класса D\");\n",
    "else\n",
    "    Console.WriteLine(\"Это не объект класса D\");\n",
    "Console.WriteLine();\n",
    "\n"
   ]
  },
  {
   "cell_type": "code",
   "execution_count": 18,
   "metadata": {
    "dotnet_interactive": {
     "language": "csharp"
    },
    "vscode": {
     "languageId": "dotnet-interactive.csharp"
    }
   },
   "outputs": [
    {
     "name": "stdout",
     "output_type": "stream",
     "text": [
      "Constr A\r\n",
      "Constr B\r\n",
      "Method B, function fb... b * 10\r\n",
      "b.fb() = 80\r\n",
      "\r\n",
      "Constr A\r\n",
      "Constr B\r\n",
      "Constr D\r\n",
      "Method D, function fd... d - 12\r\n",
      "d.fd() = 1\r\n",
      "\r\n"
     ]
    }
   ],
   "source": [
    "B b = new B();\n",
    "Console.WriteLine(\"b.fb() = {0}\", b.fb());\n",
    "Console.WriteLine();\n",
    "\n",
    "D d = new D();\n",
    "Console.WriteLine(\"d.fd() = {0}\", d.fd());\n",
    "Console.WriteLine();"
   ]
  },
  {
   "cell_type": "markdown",
   "metadata": {},
   "source": [
    "Вывод: в этой программе используется метод подстановки и метод замещения. Принцип подстановки: вместо объекта суперкласса можно подставить объект подкласса. Принцип замещения: функцию суперкласса можно заменить функцией подкласса. Ключевое слово virtual используется для изменения объявлений методов, свойств, индексаторов и событий и разрешения их переопределения в производном классе. Например, этот метод может быть переопределен любым наследующим его классом: модификатор override требуется для расширения или изменения абстрактной или виртуальной реализации унаследованного метода, свойства, индексатора или события."
   ]
  }
 ],
 "metadata": {
  "kernelspec": {
   "display_name": ".NET (C#)",
   "language": "C#",
   "name": ".net-csharp"
  },
  "language_info": {
   "file_extension": ".cs",
   "mimetype": "text/x-csharp",
   "name": "C#",
   "pygments_lexer": "csharp",
   "version": "9.0"
  },
  "orig_nbformat": 4
 },
 "nbformat": 4,
 "nbformat_minor": 2
}
