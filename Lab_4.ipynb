{
 "cells": [
  {
   "cell_type": "markdown",
   "metadata": {},
   "source": [
    "# Лабораторная работа №4. \n",
    "# Тема: Наследование: спецификация, расширение, конструирование, специализация.\n",
    "\n",
    "\n",
    "**Дано:** Граф в виде древовидной иерархической структуры\n",
    "\n",
    "![](media/var.png)\n",
    "\n",
    "**Надо:** Рассмотреть в проекте отношения наследования: расширения, спецификации, специализации и конструирования, предварительно выделив их на графе.\n",
    "\n",
    "**Как:** Построить диаграмму и сделать реализацию алгоритма."
   ]
  },
  {
   "cell_type": "markdown",
   "metadata": {},
   "source": [
    "\n",
    "Расширение: F -> C, D -> B (Красный)\n",
    "<br><br>\n",
    "Спецификация: B -> A, C -> A (Синий)\n",
    "<br><br>\n",
    "Конструирование: K -> B, E -> C (Зеленый)\n",
    "<br><br>\n",
    "Специализация: J -> F (фиолетовый)\n",
    "<br>\n",
    "<br>"
   ]
  },
  {
   "cell_type": "markdown",
   "metadata": {},
   "source": [
    "Диаграмма Наследования:\n",
    "\n",
    "![](media/lab4_1.png)\n"
   ]
  },
  {
   "cell_type": "markdown",
   "metadata": {},
   "source": [
    "## Как сделать?\n",
    "\n",
    "Реализуемые отношения наследования (Расширение, спецификация, специализация и конструирования) обязаны обладать следующими свойствами:\n",
    "\n",
    "Форма наследования Расширение:\n",
    "<br>\n",
    "&emsp;&emsp;В подобъект добавляются совершенно новые свойства, замещается по крайней мере один метод объекта суперкласса.\n",
    "<br>\n",
    "&emsp;&emsp;Добавляются новые методы к объекту подкласса. Функциональные возможности менее крепко связаны с объектом суперкласса.\n",
    "<br>\n",
    "<br>\n",
    "Форма наследования Спецификация:\n",
    "<br>\n",
    "&emsp;&emsp;Родительский класс описывает поведение, которое реализуется в дочернем классе, но оставлено нереализованным в родительском. \n",
    "<br>\n",
    "&emsp;&emsp;Спецификация гарантирует поддержку объектами определенного общего интерфейса.\n",
    "<br>\n",
    "&emsp;&emsp;Нельзя создать объект от класса спецификации. Принцип подстановки выполняется между подклассами, сохраняющими данный интерфейс суперкласса\n",
    "<br>\n",
    "<br>\n",
    "Форма наследования Специализация:\n",
    "<br>\n",
    "&emsp;&emsp;Дочерний класс является более конкретным, частным или специализированным случаем родительского класса\n",
    "<br>\n",
    "&emsp;&emsp;Дочерний класс удовлетворяет спецификациям родителя во всех моментах, т.е. подстановка выполняется полностью.\n",
    "<br>\n",
    "<br>\n",
    "Форма наследования Конструирование:\n",
    "<br>\n",
    "&emsp;&emsp;Дочерний класс использует методы, предопределяемые родительским классом\n",
    "<br>\n",
    "&emsp;&emsp;Мы преобразуем иерархию \"общее-частное\" как-будто переворачиваем её и получаем иерархию \"частное-общее\". Принцип подстановки не выполняется.\n",
    "\n",
    "Далее будет показана реализация этих вариантов наследования на примере кода:\n"
   ]
  },
  {
   "cell_type": "markdown",
   "metadata": {},
   "source": [
    "# Код. Первая часть"
   ]
  },
  {
   "cell_type": "code",
   "execution_count": 1,
   "metadata": {
    "dotnet_interactive": {
     "language": "csharp"
    },
    "vscode": {
     "languageId": "dotnet-interactive.csharp"
    }
   },
   "outputs": [],
   "source": [
    "using System;"
   ]
  },
  {
   "cell_type": "markdown",
   "metadata": {
    "dotnet_interactive": {
     "language": "csharp"
    }
   },
   "source": [
    "## Спецификация(Интерфейс)"
   ]
  },
  {
   "cell_type": "code",
   "execution_count": 2,
   "metadata": {
    "dotnet_interactive": {
     "language": "csharp"
    },
    "vscode": {
     "languageId": "dotnet-interactive.csharp"
    }
   },
   "outputs": [],
   "source": [
    "public interface A \n",
    "{\n",
    "    void fA();\n",
    "    int fA1();\n",
    "}"
   ]
  },
  {
   "cell_type": "code",
   "execution_count": 3,
   "metadata": {
    "dotnet_interactive": {
     "language": "csharp"
    },
    "vscode": {
     "languageId": "dotnet-interactive.csharp"
    }
   },
   "outputs": [],
   "source": [
    "public class B : A\n",
    "{\n",
    "    public B() { Console.WriteLine(\"Constr B\"); }\n",
    "\n",
    "    ~B(){ Console.WriteLine(\"~Destr B\"); }\n",
    "\n",
    "    public virtual void fA() { Console.WriteLine(\"realize (void) fA made in B\"); }\n",
    "\n",
    "    public virtual int fA1() { Console.WriteLine(\"realize (int) fA1 made in B\"); return 1; }\n",
    "}"
   ]
  },
  {
   "cell_type": "code",
   "execution_count": 4,
   "metadata": {
    "dotnet_interactive": {
     "language": "csharp"
    },
    "vscode": {
     "languageId": "dotnet-interactive.csharp"
    }
   },
   "outputs": [],
   "source": [
    "public class C : A \n",
    "{\n",
    "    public C() { Console.WriteLine(\"Constr C\"); }\n",
    "\n",
    "    ~C(){ Console.WriteLine(\"~Destr C\"); }\n",
    "\n",
    "    public virtual void fA() { Console.WriteLine(\"realize (void) fA made in C\"); }\n",
    "\n",
    "    public virtual int fA1() { Console.WriteLine(\"realize (int) fA1 made in C\"); return 2; }\n",
    "}"
   ]
  },
  {
   "cell_type": "code",
   "execution_count": 5,
   "metadata": {
    "dotnet_interactive": {
     "language": "csharp"
    },
    "vscode": {
     "languageId": "dotnet-interactive.csharp"
    }
   },
   "outputs": [
    {
     "name": "stdout",
     "output_type": "stream",
     "text": [
      "Constr B\r\n",
      "realize (void) fA made in B\r\n",
      "realize (int) fA1 made in B\r\n",
      "Output B 1\r\n",
      "Constr C\r\n",
      "realize (void) fA made in C\r\n",
      "realize (int) fA1 made in C\r\n",
      "Output C 2\r\n"
     ]
    }
   ],
   "source": [
    "A a = new B();\n",
    "a.fA();\n",
    "Console.WriteLine(\"Output B {0}\", a.fA1());\n",
    "a = new C();\n",
    "a.fA();\n",
    "Console.WriteLine(\"Output C {0}\", a.fA1());\n"
   ]
  },
  {
   "cell_type": "markdown",
   "metadata": {
    "dotnet_interactive": {
     "language": "csharp"
    }
   },
   "source": [
    "## Расширение"
   ]
  },
  {
   "cell_type": "code",
   "execution_count": 6,
   "metadata": {
    "dotnet_interactive": {
     "language": "csharp"
    },
    "vscode": {
     "languageId": "dotnet-interactive.csharp"
    }
   },
   "outputs": [],
   "source": [
    "public class D : B\n",
    "{\n",
    "    public D()\n",
    "    {\n",
    "        Console.WriteLine(\"Constr D\");\n",
    "        this.d = 1;\n",
    "        this.d1 = 2;\n",
    "    }\n",
    "\n",
    "    ~D() { Console.WriteLine(\"~Destr D\"); }\n",
    "    public override void fA() { Console.WriteLine(\"realize (void) fA made in D value: {0}\", d); }\n",
    "    public override int fA1() { Console.WriteLine(\"realize (void) fA1 made in D value: {0}\"); return 4; }\n",
    "    public int fD() { Console.WriteLine(\"Exlusive method of D\"); return 3; } // Новый метод\n",
    "\n",
    "    public int d { get; set; } \n",
    "    public int d1 { get; set; }\n",
    "}"
   ]
  },
  {
   "cell_type": "code",
   "execution_count": 7,
   "metadata": {
    "dotnet_interactive": {
     "language": "csharp"
    },
    "vscode": {
     "languageId": "dotnet-interactive.csharp"
    }
   },
   "outputs": [],
   "source": [
    "public class F : C\n",
    "{\n",
    "    public F()\n",
    "    {\n",
    "        Console.WriteLine(\"Constr F\");\n",
    "        this.f= 100;\n",
    "        this.f1 = 200;\n",
    "    }\n",
    "\n",
    "    ~F() { Console.WriteLine(\"~Destr F\"); }\n",
    "    public override void fA() { Console.WriteLine(\"realize (void) fA made in D value: {0}\", f); }\n",
    "    public override int fA1() { Console.WriteLine(\"realize (int) fA1 made in F\"); return 4; }\n",
    "\n",
    "    public int fF() { Console.WriteLine(\"Exlusive method of F\"); return 5; } // Новый метод\n",
    "\n",
    "    public int f { get; set; } \n",
    "    public int f1 { get; set; }\n",
    "}"
   ]
  },
  {
   "cell_type": "markdown",
   "metadata": {
    "dotnet_interactive": {
     "language": "csharp"
    }
   },
   "source": [
    "### Расширение по функции"
   ]
  },
  {
   "cell_type": "code",
   "execution_count": 8,
   "metadata": {
    "dotnet_interactive": {
     "language": "csharp"
    },
    "vscode": {
     "languageId": "dotnet-interactive.csharp"
    }
   },
   "outputs": [
    {
     "name": "stdout",
     "output_type": "stream",
     "text": [
      "Constr B\r\n",
      "Constr D\r\n",
      "realize (void) fA made in D value: 1\r\n",
      "Exlusive method of D\r\n",
      "Output 3\r\n",
      "Constr C\r\n",
      "Constr F\r\n",
      "realize (void) fA made in D value: 100\r\n",
      "Exlusive method of F\r\n",
      "Output 5\r\n"
     ]
    }
   ],
   "source": [
    "a = new D();\n",
    "a.fA();\n",
    "Console.WriteLine(\"Output {0}\", ((D)a).fD());\n",
    "\n",
    "a = new F();\n",
    "a.fA();\n",
    "Console.WriteLine(\"Output {0}\", ((F)a).fF());"
   ]
  },
  {
   "cell_type": "markdown",
   "metadata": {
    "dotnet_interactive": {
     "language": "csharp"
    },
    "vscode": {
     "languageId": "dotnet-interactive.csharp"
    }
   },
   "source": [
    "### Расширение по аргументу"
   ]
  },
  {
   "cell_type": "code",
   "execution_count": 9,
   "metadata": {
    "dotnet_interactive": {
     "language": "csharp"
    },
    "vscode": {
     "languageId": "dotnet-interactive.csharp"
    }
   },
   "outputs": [
    {
     "name": "stdout",
     "output_type": "stream",
     "text": [
      "Constr B\r\n",
      "Constr D\r\n",
      "Output 1\r\n",
      "Constr C\r\n",
      "Constr F\r\n",
      "Output 100\r\n"
     ]
    }
   ],
   "source": [
    "a = new D();\n",
    "Console.WriteLine(\"Output {0}\", ((D)a).d);\n",
    "a = new F();\n",
    "Console.WriteLine(\"Output {0}\", ((F)a).f);\n"
   ]
  },
  {
   "cell_type": "markdown",
   "metadata": {
    "dotnet_interactive": {
     "language": "csharp"
    },
    "vscode": {
     "languageId": "dotnet-interactive.csharp"
    }
   },
   "source": [
    "## Конструирование"
   ]
  },
  {
   "cell_type": "code",
   "execution_count": 10,
   "metadata": {
    "dotnet_interactive": {
     "language": "csharp"
    },
    "vscode": {
     "languageId": "dotnet-interactive.csharp"
    }
   },
   "outputs": [],
   "source": [
    "public class E : C\n",
    "    {\n",
    "        public E() { Console.WriteLine(\"Constr E\"); this.e = 5; }\n",
    "        ~E() { Console.WriteLine(\"~Destr E\"); }\n",
    "        public override void fA() {Console.WriteLine(\"not used\");  }\n",
    "        public override int fA1() {Console.WriteLine(\"not used\"); return 0; }\n",
    "        public int e { get; set; }\n",
    "    }"
   ]
  },
  {
   "cell_type": "code",
   "execution_count": 11,
   "metadata": {
    "dotnet_interactive": {
     "language": "csharp"
    },
    "vscode": {
     "languageId": "dotnet-interactive.csharp"
    }
   },
   "outputs": [],
   "source": [
    "public class K : B\n",
    "    {\n",
    "        public K() { Console.WriteLine(\"Constr K\"); this.k = 5; }\n",
    "        ~K() { Console.WriteLine(\"~Destr K\"); }\n",
    "        public override void fA() {Console.WriteLine(\"not used\");  }\n",
    "        public override int fA1() {Console.WriteLine(\"not used\"); return 0; }\n",
    "        \n",
    "        public int k { get; set; }\n",
    "    }"
   ]
  },
  {
   "cell_type": "code",
   "execution_count": 12,
   "metadata": {
    "dotnet_interactive": {
     "language": "csharp"
    },
    "vscode": {
     "languageId": "dotnet-interactive.csharp"
    }
   },
   "outputs": [
    {
     "name": "stdout",
     "output_type": "stream",
     "text": [
      "Constr C\r\n",
      "Constr E\r\n",
      "not used\r\n",
      "Constr B\r\n",
      "Constr K\r\n",
      "not used\r\n"
     ]
    }
   ],
   "source": [
    "a = new E();\n",
    "a.fA();\n",
    "a = new K();\n",
    "a.fA();"
   ]
  },
  {
   "cell_type": "markdown",
   "metadata": {
    "dotnet_interactive": {
     "language": "csharp"
    },
    "vscode": {
     "languageId": "dotnet-interactive.csharp"
    }
   },
   "source": [
    "## Cпециализация"
   ]
  },
  {
   "cell_type": "code",
   "execution_count": 13,
   "metadata": {
    "dotnet_interactive": {
     "language": "csharp"
    },
    "vscode": {
     "languageId": "dotnet-interactive.csharp"
    }
   },
   "outputs": [],
   "source": [
    "class J : F\n",
    "    {\n",
    "        public J() { Console.WriteLine(\"constr J()\"); }\n",
    "        ~J() { Console.WriteLine(\"destr J\"); }\n",
    "        public override void fA() { Console.WriteLine(\"realize (void) fA made in J\"); }\n",
    "        public override int fA1() { Console.WriteLine(\"realize (int) fA1 made in J value:{0}\", 4); return 4; }\n",
    "    }"
   ]
  },
  {
   "cell_type": "code",
   "execution_count": 14,
   "metadata": {
    "dotnet_interactive": {
     "language": "csharp"
    },
    "vscode": {
     "languageId": "dotnet-interactive.csharp"
    }
   },
   "outputs": [
    {
     "name": "stdout",
     "output_type": "stream",
     "text": [
      "Constr C\r\n",
      "Constr F\r\n",
      "constr J()\r\n",
      "realize (void) fA made in J\r\n",
      "realize (int) fA1 made in J value:4\r\n",
      "Output 4\r\n"
     ]
    }
   ],
   "source": [
    "a = new J();\n",
    "a.fA();\n",
    "Console.WriteLine(\"Output {0}\", ((J)a).fA1());"
   ]
  },
  {
   "cell_type": "markdown",
   "metadata": {
    "dotnet_interactive": {
     "language": "csharp"
    }
   },
   "source": [
    "# Код. Вторая часть.\n",
    "**Дано:** Граф в виде древовидной иерархической структуры\n",
    "\n",
    "**Надо:** Сделать так, чтобы А наследовало комбинированием B, C и J, где С и B - интерфейсы, что показано на диаграмме ниже:\n",
    "\n",
    "![](media/lab4_2.png)\n",
    "\n",
    "Рис 2. Диаграмма Наследования."
   ]
  },
  {
   "cell_type": "markdown",
   "metadata": {
    "dotnet_interactive": {
     "language": "csharp"
    }
   },
   "source": [
    "## Комбинирование"
   ]
  },
  {
   "cell_type": "code",
   "execution_count": 15,
   "metadata": {
    "dotnet_interactive": {
     "language": "csharp"
    },
    "vscode": {
     "languageId": "dotnet-interactive.csharp"
    }
   },
   "outputs": [],
   "source": [
    "public interface B\n",
    "{\n",
    "    void fB();\n",
    "    int fB1();\n",
    "}"
   ]
  },
  {
   "cell_type": "code",
   "execution_count": 16,
   "metadata": {
    "dotnet_interactive": {
     "language": "csharp"
    },
    "vscode": {
     "languageId": "dotnet-interactive.csharp"
    }
   },
   "outputs": [],
   "source": [
    "public interface C\n",
    "{\n",
    "    void fC();\n",
    "    int fC1();\n",
    "}"
   ]
  },
  {
   "cell_type": "code",
   "execution_count": 17,
   "metadata": {
    "dotnet_interactive": {
     "language": "csharp"
    },
    "vscode": {
     "languageId": "dotnet-interactive.csharp"
    }
   },
   "outputs": [],
   "source": [
    "public class J\n",
    "{\n",
    "    public J() { Console.WriteLine(\"Constr J\"); this.j1 = 5; }\n",
    "    ~J()  { Console.WriteLine(\"~Destr J\"); }\n",
    "    \n",
    "    public virtual int fJ() { return j1; }\n",
    "    \n",
    "    public int j1 { get; set; }\n",
    "}"
   ]
  },
  {
   "cell_type": "code",
   "execution_count": 18,
   "metadata": {
    "dotnet_interactive": {
     "language": "csharp"
    },
    "vscode": {
     "languageId": "dotnet-interactive.csharp"
    }
   },
   "outputs": [],
   "source": [
    "public class A : J, B, C\n",
    "{\n",
    "    public A() { \n",
    "        this.a = 0;\n",
    "        this.a1 = 1;\n",
    "        this.a2 = 2;\n",
    "        Console.WriteLine(\"Constr A\");\n",
    "     }\n",
    "     ~A() { Console.WriteLine(\"~Destr A\"); }\n",
    "    public void fB() { Console.WriteLine(\"Operation of B\"); }\n",
    "    public int fB1() { Console.WriteLine(\"Function of B\"); return this.a; }\n",
    "\n",
    "    public void fC() { Console.WriteLine(\"Operation of C\");}\n",
    "    public int fC1() {  Console.WriteLine(\"Function of C\"); return this.a1; }\n",
    "\n",
    "    public override int fJ() { Console.WriteLine(\"Overrided function of J\"); return this.a2; }\n",
    "\n",
    "    public void fA(){ Console.WriteLine(\"Operation of A\"); }\n",
    "\n",
    "    public int a { get; set; }\n",
    "    public int a1 { get; set; }\n",
    "    public int a2 { get; set; }\n",
    "}"
   ]
  },
  {
   "cell_type": "code",
   "execution_count": 19,
   "metadata": {
    "dotnet_interactive": {
     "language": "csharp"
    },
    "vscode": {
     "languageId": "dotnet-interactive.csharp"
    }
   },
   "outputs": [
    {
     "name": "stdout",
     "output_type": "stream",
     "text": [
      "Constr J\r\n",
      "Constr A\r\n",
      "Operation of C\r\n",
      "Function of C\r\n",
      "Output: 1\r\n",
      "Overrided function of J\r\n",
      "Output: 2\r\n",
      "Constr J\r\n",
      "Constr A\r\n",
      "Operation of B\r\n",
      "Operation of C\r\n",
      "Operation of A\r\n",
      "Overrided function of J\r\n",
      "Function of B\r\n"
     ]
    }
   ],
   "source": [
    "C c = new A();\n",
    "c.fC();\n",
    "Console.WriteLine(\"Output: {0}\", c.fC1());\n",
    "\n",
    "Console.WriteLine(\"Output: {0}\", ((J)c).fJ());\n",
    "\n",
    "\n",
    "A b = new A();\n",
    "b.fB();\n",
    "b.fC();\n",
    "b.fA();\n",
    "int l = b.fJ();\n",
    "int l1 = b.fB1();"
   ]
  },
  {
   "cell_type": "markdown",
   "metadata": {},
   "source": [
    "Вывод: Комбинирование позволяет объединить черты нескольких классов и интерфейсов в одном дочернем классе. В моей программе реализовано наследование от двух интерфейсов А и В и класса С. Происходит множественное наследование, причем для каждого суперкласса можно определить свой вариант наследования, но если в наследуемых классах есть одинаковые методы и/или переменные неоднозначность использования определяется указанием пространства имен класса, переменную или метод которого нужно использовать."
   ]
  }
 ],
 "metadata": {
  "kernelspec": {
   "display_name": ".NET (C#)",
   "language": "C#",
   "name": ".net-csharp"
  },
  "language_info": {
   "name": "C#"
  }
 },
 "nbformat": 4,
 "nbformat_minor": 2
}
