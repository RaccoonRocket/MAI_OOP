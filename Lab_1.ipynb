{
 "cells": [
  {
   "cell_type": "markdown",
   "metadata": {},
   "source": [
    "# Лабораторная работа №1\n",
    "# Тема: Агрегация по ссылке\n",
    "\n",
    "## Введем следующие определения:\n",
    "\n",
    "*Агрегация* – отношение ”часть-целое” между двумя равноправными объектами. Отношение агрегация применяется для создания иерархии “Целое - часть”. Доступ осуществляется к атрибуту класса через атрибут доступа\n",
    "\n",
    "*Агрегация по ссылке (указателю)* — это когда объекты класса А являются целым по отношению к объектам класса В, а объект класса В является частью объекта класса А.\n",
    "\n",
    "*Класс* — это абстракция множества предметов реального мира, удовлетворяющая правилам: все предметы в этом множестве экземпляры класса, имеют одни и те же свойства, все объекты обладают одним и тем же набором правил и линий поведения.\n",
    "\n",
    "*Атрибут* — это свойства одного индивидуального (характеристики) объекта. Атрибут имеет имя и значение. Объект имеет одно единственное значение для каждого атрибута в данный момент времени. Атрибут не должен содержать никакой внутренней структуры.\n",
    "\n",
    "*Объект* — это конкретная реализация класса.\n",
    "\n",
    "Граф в виде древовидной иерархической структуры:\n",
    "\n",
    "![](media/var.png)\n",
    "\n",
    "\n",
    "Диаграмма классов: агрегация по ссылке:\n",
    "\n",
    "![](media/lab1&2_agregation.png)\n",
    "\n",
    "\n",
    "Расположение объектов в оперативной памяти:\n",
    "\n",
    "![](media/lab1_in_memory.png)"
   ]
  },
  {
   "cell_type": "markdown",
   "metadata": {},
   "source": [
    "## Текст программы"
   ]
  },
  {
   "cell_type": "code",
   "execution_count": 11,
   "metadata": {
    "dotnet_interactive": {
     "language": "csharp"
    },
    "vscode": {
     "languageId": "dotnet-interactive.csharp"
    }
   },
   "outputs": [],
   "source": [
    "using System;"
   ]
  },
  {
   "cell_type": "markdown",
   "metadata": {},
   "source": [
    "## class D"
   ]
  },
  {
   "cell_type": "code",
   "execution_count": 12,
   "metadata": {
    "dotnet_interactive": {
     "language": "csharp"
    },
    "vscode": {
     "languageId": "dotnet-interactive.csharp"
    }
   },
   "outputs": [],
   "source": [
    "\n",
    "class D\n",
    "{\n",
    "    public D() { Console.WriteLine(\"Constr D\"); }\n",
    "    ~D() { Console.WriteLine(\"Destr D\"); }\n",
    "    public void method_D()\n",
    "    {\n",
    "        Console.WriteLine(\"Method of D\");\n",
    "    }\n",
    "}\n"
   ]
  },
  {
   "cell_type": "markdown",
   "metadata": {},
   "source": [
    "## class E"
   ]
  },
  {
   "cell_type": "code",
   "execution_count": 13,
   "metadata": {
    "dotnet_interactive": {
     "language": "csharp"
    },
    "vscode": {
     "languageId": "dotnet-interactive.csharp"
    }
   },
   "outputs": [],
   "source": [
    "\n",
    "class E\n",
    "{\n",
    "    public E() { Console.WriteLine(\"Constr E\"); }\n",
    "    ~E() { Console.WriteLine(\"Destr E\"); }\n",
    "    public void method_E()\n",
    "    {\n",
    "        Console.WriteLine(\"Method of E\");\n",
    "    }\n",
    "}\n"
   ]
  },
  {
   "cell_type": "markdown",
   "metadata": {},
   "source": [
    "## class F"
   ]
  },
  {
   "cell_type": "code",
   "execution_count": 14,
   "metadata": {
    "dotnet_interactive": {
     "language": "csharp"
    },
    "vscode": {
     "languageId": "dotnet-interactive.csharp"
    }
   },
   "outputs": [],
   "source": [
    "\n",
    "class F\n",
    "{\n",
    "    public F() { Console.WriteLine(\"Constr F\"); }\n",
    "    ~F() { Console.WriteLine(\"Destr F\"); }\n",
    "    public void method_F()\n",
    "    {\n",
    "        Console.WriteLine(\"Method of F\");\n",
    "    }\n",
    "}\n"
   ]
  },
  {
   "cell_type": "markdown",
   "metadata": {},
   "source": [
    "## class J"
   ]
  },
  {
   "cell_type": "code",
   "execution_count": 15,
   "metadata": {
    "dotnet_interactive": {
     "language": "csharp"
    },
    "vscode": {
     "languageId": "dotnet-interactive.csharp"
    }
   },
   "outputs": [],
   "source": [
    "\n",
    "class J\n",
    "{\n",
    "    public J() { Console.WriteLine(\"Constr J\"); }\n",
    "    ~J() { Console.WriteLine(\"Destr J\"); }\n",
    "    public void method_J()\n",
    "    {\n",
    "        Console.WriteLine(\"Method of J\");\n",
    "    }\n",
    "}\n"
   ]
  },
  {
   "cell_type": "markdown",
   "metadata": {},
   "source": [
    "## class K"
   ]
  },
  {
   "cell_type": "code",
   "execution_count": 16,
   "metadata": {
    "dotnet_interactive": {
     "language": "csharp"
    },
    "vscode": {
     "languageId": "dotnet-interactive.csharp"
    }
   },
   "outputs": [],
   "source": [
    "\n",
    "class K\n",
    "{\n",
    "    public K() { Console.WriteLine(\"Constr K\"); }\n",
    "    ~K() { Console.WriteLine(\"Destr K\"); }\n",
    "    public void method_K()\n",
    "    {\n",
    "        Console.WriteLine(\"Method of K\");\n",
    "    }\n",
    "}"
   ]
  },
  {
   "cell_type": "markdown",
   "metadata": {},
   "source": [
    "## class C"
   ]
  },
  {
   "cell_type": "code",
   "execution_count": 17,
   "metadata": {
    "dotnet_interactive": {
     "language": "csharp"
    },
    "vscode": {
     "languageId": "dotnet-interactive.csharp"
    }
   },
   "outputs": [],
   "source": [
    "class C\n",
    "{\n",
    "    public C(E e, F f)\n",
    "    {   \n",
    "        Console.WriteLine(\"Constr C\");\n",
    "        this.e = e;\n",
    "        this.f = f;\n",
    "    }\n",
    "    ~C() { Console.WriteLine(\"Destr C\"); }\n",
    "\n",
    "    public void method_C()\n",
    "    {\n",
    "        Console.WriteLine(\"Method of C\");\n",
    "    }\n",
    "\n",
    "    public E e_A\n",
    "    {\n",
    "        set { Console.WriteLine(\"set e\"); e = value; }\n",
    "        get { Console.Write(\"e -> \"); return e; }\n",
    "    }\n",
    "\n",
    "    public F f_A\n",
    "    {\n",
    "        set { Console.WriteLine(\"set f\"); f = value; }\n",
    "        get { Console.Write(\"f -> \"); return f; }\n",
    "    }\n",
    "\n",
    "    private E e = null;\n",
    "    private F f = null;\n",
    "}"
   ]
  },
  {
   "cell_type": "markdown",
   "metadata": {},
   "source": [
    "## class B"
   ]
  },
  {
   "cell_type": "code",
   "execution_count": 18,
   "metadata": {
    "dotnet_interactive": {
     "language": "csharp"
    },
    "vscode": {
     "languageId": "dotnet-interactive.csharp"
    }
   },
   "outputs": [],
   "source": [
    "class B\n",
    "{\n",
    "    public B(D d, K k)\n",
    "    {\n",
    "        Console.WriteLine(\"Constr B\");\n",
    "        this.d = d;\n",
    "        this.k = k;\n",
    "    }\n",
    "    ~B() { Console.WriteLine(\"Method of B\"); }\n",
    "\n",
    "    public void method_B()\n",
    "    {\n",
    "        Console.WriteLine(\" Method of B\");\n",
    "    }\n",
    "\n",
    "    public D d_A\n",
    "    {\n",
    "        set { Console.WriteLine(\"set d\"); d = value; }\n",
    "        get { Console.Write(\"d -> \"); return d; }\n",
    "    }\n",
    "\n",
    "    public K k_A\n",
    "    {\n",
    "        set { Console.WriteLine(\"set k\"); k = value; }\n",
    "        get { Console.Write(\"k -> \"); return k; }\n",
    "    }\n",
    "\n",
    "    private D d = null;\n",
    "    private K k = null;\n",
    "}\n"
   ]
  },
  {
   "cell_type": "markdown",
   "metadata": {},
   "source": [
    "## class A"
   ]
  },
  {
   "cell_type": "code",
   "execution_count": 19,
   "metadata": {
    "dotnet_interactive": {
     "language": "csharp"
    },
    "vscode": {
     "languageId": "dotnet-interactive.csharp"
    }
   },
   "outputs": [],
   "source": [
    "class A\n",
    "{\n",
    "    public A(B b, C c, J j)\n",
    "    {\n",
    "        Console.WriteLine(\"Constr A\");\n",
    "        this.b = b;\n",
    "        this.c = c;\n",
    "        this.j = j;\n",
    "    }\n",
    "\n",
    "    ~A() { Console.WriteLine(\"Destr A\"); }\n",
    "\n",
    "    public void method_A()\n",
    "    {\n",
    "        Console.WriteLine(\"Method of A\");\n",
    "    }\n",
    "\n",
    "    public B b_A\n",
    "    {\n",
    "        set { Console.WriteLine(\"set b\"); b = value; }\n",
    "        get { Console.Write(\"b -> \"); return b; }\n",
    "    }\n",
    "\n",
    "    public C c_A\n",
    "    {\n",
    "        set { Console.WriteLine(\"set c\"); c = value; }\n",
    "        get { Console.Write(\"c -> \"); return c; }\n",
    "    }\n",
    "\n",
    "    public J j_A\n",
    "    {\n",
    "        set { Console.WriteLine(\"set j\"); j = value; }\n",
    "        get { Console.Write(\"j -> \"); return j; }\n",
    "    }\n",
    "\n",
    "    private B b;\n",
    "    private C c;\n",
    "    private J j;\n",
    "}\n"
   ]
  },
  {
   "cell_type": "code",
   "execution_count": 20,
   "metadata": {
    "dotnet_interactive": {
     "language": "csharp"
    },
    "vscode": {
     "languageId": "dotnet-interactive.csharp"
    }
   },
   "outputs": [
    {
     "name": "stdout",
     "output_type": "stream",
     "text": [
      "Constr D\r\n",
      "Constr K\r\n",
      "Constr E\r\n",
      "Constr F\r\n",
      "Constr J\r\n",
      "Constr B\r\n",
      "Constr C\r\n",
      "Constr A\r\n",
      "передача по ссылке:\r\n",
      "Method of A\r\n",
      "b ->  Method of B\r\n",
      "c -> Method of C\r\n",
      "j -> Method of J\r\n",
      "b -> d -> Method of D\r\n",
      "b -> k -> Method of K\r\n",
      "c -> e -> Method of E\r\n",
      "c -> f -> Method of F\r\n"
     ]
    }
   ],
   "source": [
    "//создание объектов, которые будут частью других объектов\n",
    "D d = new D();\n",
    "K k = new K();\n",
    "E e = new E();\n",
    "F f = new F();\n",
    "J j = new J();\n",
    "\n",
    "//передаем выше созданные объекты классов в виде параметра в конструкторы классов B, C и A.\n",
    "B b = new B(d, k);\n",
    "C c = new C(e, f);\n",
    "A a = new A(b, c, j);\n",
    "\n",
    "//проверка, что передаётся по ссылке\n",
    "Console.WriteLine(\"передача по ссылке:\");\n",
    "a.method_A();\n",
    "a.b_A.method_B();\n",
    "a.c_A.method_C();\n",
    "a.j_A.method_J();\n",
    "\n",
    "a.b_A.d_A.method_D();\n",
    "a.b_A.k_A.method_K();\n",
    "\n",
    "a.c_A.e_A.method_E();\n",
    "a.c_A.f_A.method_F();"
   ]
  },
  {
   "cell_type": "markdown",
   "metadata": {},
   "source": [
    "Вывод: Объекты всех классов существуют независимо друг от друга. Связывание объектов происходит  с помощью конструктора. Например, b, c, j,  — параметры для конструктора класса A; d, k — для конструктора класса B; e, f — для конструктора класса C. Объекты могут быть уничтожены по отдельности. Это нарушит целостность структуры. Если удалить объект a, объекты b, c, j и т.д будут продолжать существовать и дальше. Агрегация по ссылке очень выгодна, так как она расходует очень мало памяти."
   ]
  }
 ],
 "metadata": {
  "kernelspec": {
   "display_name": ".NET (C#)",
   "language": "C#",
   "name": ".net-csharp"
  },
  "language_info": {
   "file_extension": ".cs",
   "mimetype": "text/x-csharp",
   "name": "C#",
   "pygments_lexer": "csharp",
   "version": "9.0"
  },
  "orig_nbformat": 4
 },
 "nbformat": 4,
 "nbformat_minor": 2
}
