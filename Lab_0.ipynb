{
 "cells": [
  {
   "cell_type": "markdown",
   "metadata": {},
   "source": [
    "# Лабораторная Работа № 0\n",
    "\n",
    "## Тема: Перегрузка конструкторов, функций, операторов и операций\n",
    "\n",
    "*Класс* – Множество объектов. Атрибуты классов обеспечивают поведение (данные и функции), которое наследуется всеми экземплярами, сгенерированными из них.\n",
    "\n",
    "*Экземпляры* - конкретные элементы сгенерированные классом. Атрибуты экземпляров хранят данные, которые варьируются для каждого отдельного объекта.\n",
    "\n",
    "*Перегрузка* - один из способов реализации полиморфизма, заключающийся в возможности одновременного существования в одной области видимости нескольких различных вариантов применения операторов, имеющих одно и то же имя, но различающихся типами и количеством параметров, к которым они применяются.\n",
    "\n",
    "*Атрибут* – свойство характеристики данного объекта."
   ]
  },
  {
   "cell_type": "code",
   "execution_count": 13,
   "metadata": {
    "dotnet_interactive": {
     "language": "csharp"
    },
    "vscode": {
     "languageId": "dotnet-interactive.csharp"
    }
   },
   "outputs": [],
   "source": [
    "using System;"
   ]
  },
  {
   "cell_type": "code",
   "execution_count": 14,
   "metadata": {
    "dotnet_interactive": {
     "language": "csharp"
    },
    "vscode": {
     "languageId": "dotnet-interactive.csharp"
    }
   },
   "outputs": [],
   "source": [
    "class Crowd\n",
    "    {\n",
    "        public string place;\n",
    "        public ushort quantity;\n",
    "\n",
    "        // constructor overloading\n",
    "        public Crowd() { quantity = 5; }\n",
    "        public Crowd(string place)\n",
    "        {\n",
    "            this.place = place;\n",
    "            quantity = 5;\n",
    "        }\n",
    "        public Crowd(string place, ushort quantity)\n",
    "        {\n",
    "            this.place = place;\n",
    "            this.quantity = quantity;\n",
    "        }\n",
    "\n",
    "        // function overloading\n",
    "        public Crowd Separation(ushort quantity)\n",
    "        {\n",
    "            Crowd c3 = new Crowd(this.place);\n",
    "            if (this.quantity < quantity)\n",
    "            {\n",
    "                c3.quantity = this.quantity;\n",
    "                this.quantity = 0;\n",
    "            }\n",
    "            else\n",
    "            {\n",
    "                c3.quantity = quantity;\n",
    "                this.quantity -= quantity;\n",
    "            }\n",
    "            return c3;\n",
    "        }\n",
    "\n",
    "        // operator overloading\n",
    "        public static Crowd operator +(Crowd c1, Crowd c2)\n",
    "        {\n",
    "            c1.quantity += c2.quantity;\n",
    "            c2.quantity = 0;\n",
    "            return c1;\n",
    "        }\n",
    "\n",
    "        // operations overloading\n",
    "        public void Leave()\n",
    "        {\n",
    "            place = null;\n",
    "            quantity = 0;\n",
    "        }\n",
    "\n",
    "        public void Leave(ushort leave)\n",
    "        {\n",
    "            if (this.quantity < leave)\n",
    "            {\n",
    "                this.place = null;\n",
    "                this.quantity = 0;\n",
    "            }\n",
    "            else\n",
    "            {\n",
    "                this.quantity -= leave;\n",
    "            }\n",
    "        }\n",
    "    }   "
   ]
  },
  {
   "cell_type": "markdown",
   "metadata": {},
   "source": [
    "# Работа программы"
   ]
  },
  {
   "cell_type": "code",
   "execution_count": 15,
   "metadata": {
    "dotnet_interactive": {
     "language": "csharp"
    },
    "vscode": {
     "languageId": "dotnet-interactive.csharp"
    }
   },
   "outputs": [
    {
     "name": "stdout",
     "output_type": "stream",
     "text": [
      "place: kitchen, quantity: 5\r\n",
      "place: shawarma_shop, quantity: 5\r\n",
      "place: dormitory, quantity: 10\r\n",
      "place: MAI, quantity: 25\r\n",
      "\n",
      "Lunch time has started..\n",
      "\r\n",
      "Lunch time has finished..\n",
      "\r\n",
      "place: dormitory, quantity: 7\r\n",
      "place: MAI, quantity: 20\r\n",
      "place: dormitory, quantity: 0\r\n",
      "place: MAI, quantity: 5\r\n"
     ]
    }
   ],
   "source": [
    "Crowd crowd_in_kitchen = new Crowd(\"kitchen\");\n",
    "Crowd crowd_in_shawarma_shop = new Crowd(\"shawarma_shop\");\n",
    "Crowd crowd_in_dormitory = new Crowd(\"dormitory\", 10);\n",
    "Crowd crowd_in_mai = new Crowd(\"MAI\", 25);\n",
    "\n",
    "Console.WriteLine($\"place: {crowd_in_kitchen.place}, quantity: {crowd_in_kitchen.quantity}\");\n",
    "Console.WriteLine($\"place: {crowd_in_shawarma_shop.place}, quantity: {crowd_in_shawarma_shop.quantity}\");\n",
    "Console.WriteLine($\"place: {crowd_in_dormitory.place}, quantity: {crowd_in_dormitory.quantity}\");\n",
    "Console.WriteLine($\"place: {crowd_in_mai.place}, quantity: {crowd_in_mai.quantity}\");\n",
    "\n",
    "Console.WriteLine(\"\\nLunch time has started..\\n\");\n",
    "\n",
    "crowd_in_kitchen = crowd_in_dormitory.Separation(7);\n",
    "crowd_in_shawarma_shop = crowd_in_shawarma_shop + crowd_in_dormitory;\n",
    "crowd_in_shawarma_shop = crowd_in_mai.Separation(20);\n",
    "\n",
    "Console.WriteLine(\"Lunch time has finished..\\n\");\n",
    "\n",
    "Console.WriteLine($\"place: {crowd_in_kitchen.place}, quantity: {crowd_in_kitchen.quantity}\");\n",
    "Console.WriteLine($\"place: {crowd_in_shawarma_shop.place}, quantity: {crowd_in_shawarma_shop.quantity}\");\n",
    "Console.WriteLine($\"place: {crowd_in_dormitory.place}, quantity: {crowd_in_dormitory.quantity}\");\n",
    "Console.WriteLine($\"place: {crowd_in_mai.place}, quantity: {crowd_in_mai.quantity}\");"
   ]
  },
  {
   "cell_type": "markdown",
   "metadata": {},
   "source": [
    "Вывод: перегрузка конструкторов, функций, операторов и операций позволяет определить структурный полиморфизм, когда с данным именем существуют несколько функций с разным поведением, а также с различным списком аргументов, который определит, какая функция будет вызываться."
   ]
  }
 ],
 "metadata": {
  "kernelspec": {
   "display_name": ".NET (C#)",
   "language": "C#",
   "name": ".net-csharp"
  },
  "language_info": {
   "file_extension": ".cs",
   "mimetype": "text/x-csharp",
   "name": "C#",
   "pygments_lexer": "csharp",
   "version": "9.0"
  },
  "orig_nbformat": 4
 },
 "nbformat": 4,
 "nbformat_minor": 2
}
