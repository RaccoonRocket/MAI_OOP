{
 "cells": [
  {
   "cell_type": "markdown",
   "metadata": {},
   "source": [
    "# Лабораторная работа №5. \n",
    "# Тема: Комбинирование через общих предков.\n",
    "\n",
    "\n",
    "## Дано: \n",
    "\n",
    "Граф в виде древовидной иерархической структуры:\n",
    "\n",
    "![](media/var.png)\n",
    "\n",
    "## Надо:\n",
    "Сделать комбинирование через общих предков\n",
    "## Как делать? \n",
    "Выделить в графе \"ромб\", где два класса наследуются от общего предка, а подклас этих классов наследует их черты, тем самым реализуя множественное наследование.\n",
    "\n",
    "\n",
    "Категория наследования: комбинирование через общих предко:\n",
    "\n",
    "![](media/lab5.png)\n",
    "\n"
   ]
  },
  {
   "cell_type": "markdown",
   "metadata": {},
   "source": [
    "# Текст программы"
   ]
  },
  {
   "cell_type": "markdown",
   "metadata": {
    "dotnet_interactive": {
     "language": "csharp"
    }
   },
   "source": [
    "## Объявление общего предка"
   ]
  },
  {
   "cell_type": "code",
   "execution_count": 86,
   "metadata": {
    "dotnet_interactive": {
     "language": "csharp"
    },
    "vscode": {
     "languageId": "dotnet-interactive.csharp"
    }
   },
   "outputs": [],
   "source": [
    "public interface A\n",
    "{\n",
    "    void mA();\n",
    "    int fA();\n",
    "}"
   ]
  },
  {
   "cell_type": "code",
   "execution_count": 87,
   "metadata": {
    "dotnet_interactive": {
     "language": "csharp"
    },
    "vscode": {
     "languageId": "dotnet-interactive.csharp"
    }
   },
   "outputs": [],
   "source": [
    "public interface C : A {\n",
    "    void mC();\n",
    "    int fC();\n",
    "}"
   ]
  },
  {
   "cell_type": "code",
   "execution_count": 88,
   "metadata": {
    "dotnet_interactive": {
     "language": "csharp"
    },
    "vscode": {
     "languageId": "dotnet-interactive.csharp"
    }
   },
   "outputs": [],
   "source": [
    "public class B : A {\n",
    "    public B(int n) \n",
    "    { \n",
    "        Console.WriteLine(\"Constr B\"); \n",
    "        this.b = n; \n",
    "    }\n",
    "    ~B() { Console.WriteLine(\"~Destr B\"); }\n",
    "\n",
    "    public virtual void mA() { Console.WriteLine(\"Method declared in A, uses in B\");}\n",
    "    public virtual int fA() { Console.WriteLine(\"Function declared in A, uses in B\"); return b; }\n",
    "\n",
    "    public virtual void mB() { Console.WriteLine(\"Methon in B\"); }\n",
    "    public virtual int fB()  { Console.WriteLine(\"Function of B\"); return b + 1; }\n",
    "\n",
    "    public int b { get; set; }\n",
    "}"
   ]
  },
  {
   "cell_type": "markdown",
   "metadata": {
    "dotnet_interactive": {
     "language": "csharp"
    }
   },
   "source": [
    "## Реализация множественного наследования"
   ]
  },
  {
   "cell_type": "code",
   "execution_count": 89,
   "metadata": {
    "dotnet_interactive": {
     "language": "csharp"
    },
    "vscode": {
     "languageId": "dotnet-interactive.csharp"
    }
   },
   "outputs": [],
   "source": [
    "public class E : B, C {\n",
    "    public E(int b): base(b)\n",
    "    {\n",
    "        Console.WriteLine(\"Constr E\"); \n",
    "        this.a = 2;\n",
    "    }\n",
    "    ~E() { Console.WriteLine(\"~Destr E\"); }\n",
    "\n",
    "    public void mC() { Console.WriteLine(\"Method declared in C, uses in E\"); }\n",
    "    public int fC() { Console.WriteLine(\"Function declared in C, uses in E\"); return a; }\n",
    "\n",
    "    public override void mB() { Console.WriteLine(\"Method declared in B, uses in E\"); }\n",
    "    public override int fB() { Console.WriteLine(\"Function declared in B, uses in E\"); return a * 2; }\n",
    "\n",
    "    public override int fA() { Console.WriteLine(\"Method declared in A, uses in E\"); return a + 1; }\n",
    "    public override void mA() { Console.WriteLine(\"Function declared in A, uses in E\"); }\n",
    "\n",
    "    public int a { get; set; }\n",
    "\n",
    "    \n",
    "}"
   ]
  },
  {
   "cell_type": "code",
   "execution_count": 90,
   "metadata": {
    "dotnet_interactive": {
     "language": "csharp"
    },
    "vscode": {
     "languageId": "dotnet-interactive.csharp"
    }
   },
   "outputs": [
    {
     "name": "stdout",
     "output_type": "stream",
     "text": [
      "Constr B\r\n",
      "Method declared in A, uses in B\r\n",
      "Function declared in A, uses in B\r\n"
     ]
    }
   ],
   "source": [
    "A a = new B(1);\n",
    "a.mA();\n",
    "a.fA();"
   ]
  },
  {
   "cell_type": "code",
   "execution_count": 91,
   "metadata": {
    "dotnet_interactive": {
     "language": "csharp"
    },
    "vscode": {
     "languageId": "dotnet-interactive.csharp"
    }
   },
   "outputs": [
    {
     "name": "stdout",
     "output_type": "stream",
     "text": [
      "Constr B\r\n",
      "Constr E\r\n",
      "Function declared in A, uses in E\r\n",
      "Method declared in A, uses in E\r\n"
     ]
    }
   ],
   "source": [
    "E e = new E(1);\n",
    "e.mA();\n",
    "e.fA();"
   ]
  },
  {
   "cell_type": "code",
   "execution_count": 92,
   "metadata": {
    "dotnet_interactive": {
     "language": "csharp"
    },
    "vscode": {
     "languageId": "dotnet-interactive.csharp"
    }
   },
   "outputs": [
    {
     "name": "stdout",
     "output_type": "stream",
     "text": [
      "Method declared in B, uses in E\r\n",
      "Function declared in B, uses in E\r\n"
     ]
    }
   ],
   "source": [
    "e.mB();\n",
    "e.fB();"
   ]
  },
  {
   "cell_type": "code",
   "execution_count": 93,
   "metadata": {
    "dotnet_interactive": {
     "language": "csharp"
    },
    "vscode": {
     "languageId": "dotnet-interactive.csharp"
    }
   },
   "outputs": [
    {
     "name": "stdout",
     "output_type": "stream",
     "text": [
      "Method declared in C, uses in E\r\n",
      "Function declared in C, uses in E\r\n"
     ]
    }
   ],
   "source": [
    "e.mC();\n",
    "e.fC();"
   ]
  },
  {
   "cell_type": "markdown",
   "metadata": {},
   "source": [
    "Вывод: комбинирование через общих предков позволяет реализовать множественное наследование через общий суперкласс; комбинирует в себе два класса с общим суперклассом, который, в свою очередь, сам присутствует только в единственном экземпляре благодаря virtual наследованию, позволяющее избежать дублирование этого суперкласса."
   ]
  }
 ],
 "metadata": {
  "kernelspec": {
   "display_name": ".NET (C#)",
   "language": "C#",
   "name": ".net-csharp"
  },
  "language_info": {
   "name": "C#"
  }
 },
 "nbformat": 4,
 "nbformat_minor": 2
}
